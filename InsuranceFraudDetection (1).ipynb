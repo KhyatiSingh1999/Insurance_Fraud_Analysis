{
 "cells": [
  {
   "cell_type": "code",
   "execution_count": 1,
   "id": "7d4a9843",
   "metadata": {},
   "outputs": [],
   "source": [
    "import pandas as pd\n",
    "import numpy as np\n",
    "import matplotlib as plt\n",
    "import seaborn as sns\n",
    "\n",
    "from sklearn.discriminant_analysis import \\\n",
    "(LinearDiscriminantAnalysis as LDA,\n",
    "QuadraticDiscriminantAnalysis as QDA)\n",
    "from sklearn.naive_bayes import GaussianNB\n",
    "from sklearn.neighbors import KNeighborsClassifier\n",
    "from sklearn.preprocessing import StandardScaler\n",
    "from sklearn.model_selection import train_test_split\n",
    "from sklearn.linear_model import LogisticRegression\n",
    "\n",
    "\n",
    "#from sklearn_pandas import CategoricalImputer"
   ]
  },
  {
   "cell_type": "markdown",
   "id": "71adbada",
   "metadata": {},
   "source": [
    "# Loading Dataset\n"
   ]
  },
  {
   "cell_type": "code",
   "execution_count": 2,
   "id": "fb44ccef",
   "metadata": {},
   "outputs": [],
   "source": [
    "# Reading the data\n",
    "# Loading the csv data to a Pandas dataframe\n",
    "data = pd.read_csv(\"K:\\INSURANCE _FRAUD_DETECTION\\DATA\\insuranceFraud.csv\")"
   ]
  },
  {
   "cell_type": "code",
   "execution_count": 3,
   "id": "8879b52f",
   "metadata": {},
   "outputs": [
    {
     "data": {
      "text/html": [
       "<div>\n",
       "<style scoped>\n",
       "    .dataframe tbody tr th:only-of-type {\n",
       "        vertical-align: middle;\n",
       "    }\n",
       "\n",
       "    .dataframe tbody tr th {\n",
       "        vertical-align: top;\n",
       "    }\n",
       "\n",
       "    .dataframe thead th {\n",
       "        text-align: right;\n",
       "    }\n",
       "</style>\n",
       "<table border=\"1\" class=\"dataframe\">\n",
       "  <thead>\n",
       "    <tr style=\"text-align: right;\">\n",
       "      <th></th>\n",
       "      <th>months_as_customer</th>\n",
       "      <th>age</th>\n",
       "      <th>policy_number</th>\n",
       "      <th>policy_bind_date</th>\n",
       "      <th>policy_state</th>\n",
       "      <th>policy_csl</th>\n",
       "      <th>policy_deductable</th>\n",
       "      <th>policy_annual_premium</th>\n",
       "      <th>umbrella_limit</th>\n",
       "      <th>insured_zip</th>\n",
       "      <th>...</th>\n",
       "      <th>witnesses</th>\n",
       "      <th>police_report_available</th>\n",
       "      <th>total_claim_amount</th>\n",
       "      <th>injury_claim</th>\n",
       "      <th>property_claim</th>\n",
       "      <th>vehicle_claim</th>\n",
       "      <th>auto_make</th>\n",
       "      <th>auto_model</th>\n",
       "      <th>auto_year</th>\n",
       "      <th>fraud_reported</th>\n",
       "    </tr>\n",
       "  </thead>\n",
       "  <tbody>\n",
       "    <tr>\n",
       "      <th>0</th>\n",
       "      <td>328</td>\n",
       "      <td>48</td>\n",
       "      <td>521585</td>\n",
       "      <td>10/17/2014</td>\n",
       "      <td>OH</td>\n",
       "      <td>250/500</td>\n",
       "      <td>1000</td>\n",
       "      <td>1406.91</td>\n",
       "      <td>0</td>\n",
       "      <td>466132</td>\n",
       "      <td>...</td>\n",
       "      <td>2</td>\n",
       "      <td>YES</td>\n",
       "      <td>71610</td>\n",
       "      <td>6510</td>\n",
       "      <td>13020</td>\n",
       "      <td>52080</td>\n",
       "      <td>Saab</td>\n",
       "      <td>92x</td>\n",
       "      <td>2004</td>\n",
       "      <td>Y</td>\n",
       "    </tr>\n",
       "    <tr>\n",
       "      <th>1</th>\n",
       "      <td>228</td>\n",
       "      <td>42</td>\n",
       "      <td>342868</td>\n",
       "      <td>6/27/2006</td>\n",
       "      <td>IN</td>\n",
       "      <td>250/500</td>\n",
       "      <td>2000</td>\n",
       "      <td>1197.22</td>\n",
       "      <td>5000000</td>\n",
       "      <td>468176</td>\n",
       "      <td>...</td>\n",
       "      <td>0</td>\n",
       "      <td>?</td>\n",
       "      <td>5070</td>\n",
       "      <td>780</td>\n",
       "      <td>780</td>\n",
       "      <td>3510</td>\n",
       "      <td>Mercedes</td>\n",
       "      <td>E400</td>\n",
       "      <td>2007</td>\n",
       "      <td>Y</td>\n",
       "    </tr>\n",
       "    <tr>\n",
       "      <th>2</th>\n",
       "      <td>134</td>\n",
       "      <td>29</td>\n",
       "      <td>687698</td>\n",
       "      <td>9/6/2000</td>\n",
       "      <td>OH</td>\n",
       "      <td>100/300</td>\n",
       "      <td>2000</td>\n",
       "      <td>1413.14</td>\n",
       "      <td>5000000</td>\n",
       "      <td>430632</td>\n",
       "      <td>...</td>\n",
       "      <td>3</td>\n",
       "      <td>NO</td>\n",
       "      <td>34650</td>\n",
       "      <td>7700</td>\n",
       "      <td>3850</td>\n",
       "      <td>23100</td>\n",
       "      <td>Dodge</td>\n",
       "      <td>RAM</td>\n",
       "      <td>2007</td>\n",
       "      <td>N</td>\n",
       "    </tr>\n",
       "    <tr>\n",
       "      <th>3</th>\n",
       "      <td>256</td>\n",
       "      <td>41</td>\n",
       "      <td>227811</td>\n",
       "      <td>5/25/1990</td>\n",
       "      <td>IL</td>\n",
       "      <td>250/500</td>\n",
       "      <td>2000</td>\n",
       "      <td>1415.74</td>\n",
       "      <td>6000000</td>\n",
       "      <td>608117</td>\n",
       "      <td>...</td>\n",
       "      <td>2</td>\n",
       "      <td>NO</td>\n",
       "      <td>63400</td>\n",
       "      <td>6340</td>\n",
       "      <td>6340</td>\n",
       "      <td>50720</td>\n",
       "      <td>Chevrolet</td>\n",
       "      <td>Tahoe</td>\n",
       "      <td>2014</td>\n",
       "      <td>Y</td>\n",
       "    </tr>\n",
       "    <tr>\n",
       "      <th>4</th>\n",
       "      <td>228</td>\n",
       "      <td>44</td>\n",
       "      <td>367455</td>\n",
       "      <td>6/6/2014</td>\n",
       "      <td>IL</td>\n",
       "      <td>500/1000</td>\n",
       "      <td>1000</td>\n",
       "      <td>1583.91</td>\n",
       "      <td>6000000</td>\n",
       "      <td>610706</td>\n",
       "      <td>...</td>\n",
       "      <td>1</td>\n",
       "      <td>NO</td>\n",
       "      <td>6500</td>\n",
       "      <td>1300</td>\n",
       "      <td>650</td>\n",
       "      <td>4550</td>\n",
       "      <td>Accura</td>\n",
       "      <td>RSX</td>\n",
       "      <td>2009</td>\n",
       "      <td>N</td>\n",
       "    </tr>\n",
       "  </tbody>\n",
       "</table>\n",
       "<p>5 rows × 39 columns</p>\n",
       "</div>"
      ],
      "text/plain": [
       "   months_as_customer  age  policy_number policy_bind_date policy_state  \\\n",
       "0                 328   48         521585       10/17/2014           OH   \n",
       "1                 228   42         342868        6/27/2006           IN   \n",
       "2                 134   29         687698         9/6/2000           OH   \n",
       "3                 256   41         227811        5/25/1990           IL   \n",
       "4                 228   44         367455         6/6/2014           IL   \n",
       "\n",
       "  policy_csl  policy_deductable  policy_annual_premium  umbrella_limit  \\\n",
       "0    250/500               1000                1406.91               0   \n",
       "1    250/500               2000                1197.22         5000000   \n",
       "2    100/300               2000                1413.14         5000000   \n",
       "3    250/500               2000                1415.74         6000000   \n",
       "4   500/1000               1000                1583.91         6000000   \n",
       "\n",
       "   insured_zip  ... witnesses police_report_available total_claim_amount  \\\n",
       "0       466132  ...         2                     YES              71610   \n",
       "1       468176  ...         0                       ?               5070   \n",
       "2       430632  ...         3                      NO              34650   \n",
       "3       608117  ...         2                      NO              63400   \n",
       "4       610706  ...         1                      NO               6500   \n",
       "\n",
       "  injury_claim property_claim  vehicle_claim  auto_make auto_model auto_year  \\\n",
       "0         6510          13020          52080       Saab        92x      2004   \n",
       "1          780            780           3510   Mercedes       E400      2007   \n",
       "2         7700           3850          23100      Dodge        RAM      2007   \n",
       "3         6340           6340          50720  Chevrolet      Tahoe      2014   \n",
       "4         1300            650           4550     Accura        RSX      2009   \n",
       "\n",
       "  fraud_reported  \n",
       "0              Y  \n",
       "1              Y  \n",
       "2              N  \n",
       "3              Y  \n",
       "4              N  \n",
       "\n",
       "[5 rows x 39 columns]"
      ]
     },
     "execution_count": 3,
     "metadata": {},
     "output_type": "execute_result"
    }
   ],
   "source": [
    "data.head()"
   ]
  },
  {
   "cell_type": "code",
   "execution_count": 4,
   "id": "3f68d6f0",
   "metadata": {},
   "outputs": [
    {
     "data": {
      "text/html": [
       "<div>\n",
       "<style scoped>\n",
       "    .dataframe tbody tr th:only-of-type {\n",
       "        vertical-align: middle;\n",
       "    }\n",
       "\n",
       "    .dataframe tbody tr th {\n",
       "        vertical-align: top;\n",
       "    }\n",
       "\n",
       "    .dataframe thead th {\n",
       "        text-align: right;\n",
       "    }\n",
       "</style>\n",
       "<table border=\"1\" class=\"dataframe\">\n",
       "  <thead>\n",
       "    <tr style=\"text-align: right;\">\n",
       "      <th></th>\n",
       "      <th>months_as_customer</th>\n",
       "      <th>age</th>\n",
       "      <th>policy_number</th>\n",
       "      <th>policy_bind_date</th>\n",
       "      <th>policy_state</th>\n",
       "      <th>policy_csl</th>\n",
       "      <th>policy_deductable</th>\n",
       "      <th>policy_annual_premium</th>\n",
       "      <th>umbrella_limit</th>\n",
       "      <th>insured_zip</th>\n",
       "      <th>...</th>\n",
       "      <th>witnesses</th>\n",
       "      <th>police_report_available</th>\n",
       "      <th>total_claim_amount</th>\n",
       "      <th>injury_claim</th>\n",
       "      <th>property_claim</th>\n",
       "      <th>vehicle_claim</th>\n",
       "      <th>auto_make</th>\n",
       "      <th>auto_model</th>\n",
       "      <th>auto_year</th>\n",
       "      <th>fraud_reported</th>\n",
       "    </tr>\n",
       "  </thead>\n",
       "  <tbody>\n",
       "    <tr>\n",
       "      <th>995</th>\n",
       "      <td>3</td>\n",
       "      <td>38</td>\n",
       "      <td>941851</td>\n",
       "      <td>7/16/1991</td>\n",
       "      <td>OH</td>\n",
       "      <td>500/1000</td>\n",
       "      <td>1000</td>\n",
       "      <td>1310.80</td>\n",
       "      <td>0</td>\n",
       "      <td>431289</td>\n",
       "      <td>...</td>\n",
       "      <td>1</td>\n",
       "      <td>?</td>\n",
       "      <td>87200</td>\n",
       "      <td>17440</td>\n",
       "      <td>8720</td>\n",
       "      <td>61040</td>\n",
       "      <td>Honda</td>\n",
       "      <td>Accord</td>\n",
       "      <td>2006</td>\n",
       "      <td>N</td>\n",
       "    </tr>\n",
       "    <tr>\n",
       "      <th>996</th>\n",
       "      <td>285</td>\n",
       "      <td>41</td>\n",
       "      <td>186934</td>\n",
       "      <td>1/5/2014</td>\n",
       "      <td>IL</td>\n",
       "      <td>100/300</td>\n",
       "      <td>1000</td>\n",
       "      <td>1436.79</td>\n",
       "      <td>0</td>\n",
       "      <td>608177</td>\n",
       "      <td>...</td>\n",
       "      <td>3</td>\n",
       "      <td>?</td>\n",
       "      <td>108480</td>\n",
       "      <td>18080</td>\n",
       "      <td>18080</td>\n",
       "      <td>72320</td>\n",
       "      <td>Volkswagen</td>\n",
       "      <td>Passat</td>\n",
       "      <td>2015</td>\n",
       "      <td>N</td>\n",
       "    </tr>\n",
       "    <tr>\n",
       "      <th>997</th>\n",
       "      <td>130</td>\n",
       "      <td>34</td>\n",
       "      <td>918516</td>\n",
       "      <td>2/17/2003</td>\n",
       "      <td>OH</td>\n",
       "      <td>250/500</td>\n",
       "      <td>500</td>\n",
       "      <td>1383.49</td>\n",
       "      <td>3000000</td>\n",
       "      <td>442797</td>\n",
       "      <td>...</td>\n",
       "      <td>3</td>\n",
       "      <td>YES</td>\n",
       "      <td>67500</td>\n",
       "      <td>7500</td>\n",
       "      <td>7500</td>\n",
       "      <td>52500</td>\n",
       "      <td>Suburu</td>\n",
       "      <td>Impreza</td>\n",
       "      <td>1996</td>\n",
       "      <td>N</td>\n",
       "    </tr>\n",
       "    <tr>\n",
       "      <th>998</th>\n",
       "      <td>458</td>\n",
       "      <td>62</td>\n",
       "      <td>533940</td>\n",
       "      <td>11/18/2011</td>\n",
       "      <td>IL</td>\n",
       "      <td>500/1000</td>\n",
       "      <td>2000</td>\n",
       "      <td>1356.92</td>\n",
       "      <td>5000000</td>\n",
       "      <td>441714</td>\n",
       "      <td>...</td>\n",
       "      <td>1</td>\n",
       "      <td>YES</td>\n",
       "      <td>46980</td>\n",
       "      <td>5220</td>\n",
       "      <td>5220</td>\n",
       "      <td>36540</td>\n",
       "      <td>Audi</td>\n",
       "      <td>A5</td>\n",
       "      <td>1998</td>\n",
       "      <td>N</td>\n",
       "    </tr>\n",
       "    <tr>\n",
       "      <th>999</th>\n",
       "      <td>456</td>\n",
       "      <td>60</td>\n",
       "      <td>556080</td>\n",
       "      <td>11/11/1996</td>\n",
       "      <td>OH</td>\n",
       "      <td>250/500</td>\n",
       "      <td>1000</td>\n",
       "      <td>766.19</td>\n",
       "      <td>0</td>\n",
       "      <td>612260</td>\n",
       "      <td>...</td>\n",
       "      <td>3</td>\n",
       "      <td>?</td>\n",
       "      <td>5060</td>\n",
       "      <td>460</td>\n",
       "      <td>920</td>\n",
       "      <td>3680</td>\n",
       "      <td>Mercedes</td>\n",
       "      <td>E400</td>\n",
       "      <td>2007</td>\n",
       "      <td>N</td>\n",
       "    </tr>\n",
       "  </tbody>\n",
       "</table>\n",
       "<p>5 rows × 39 columns</p>\n",
       "</div>"
      ],
      "text/plain": [
       "     months_as_customer  age  policy_number policy_bind_date policy_state  \\\n",
       "995                   3   38         941851        7/16/1991           OH   \n",
       "996                 285   41         186934         1/5/2014           IL   \n",
       "997                 130   34         918516        2/17/2003           OH   \n",
       "998                 458   62         533940       11/18/2011           IL   \n",
       "999                 456   60         556080       11/11/1996           OH   \n",
       "\n",
       "    policy_csl  policy_deductable  policy_annual_premium  umbrella_limit  \\\n",
       "995   500/1000               1000                1310.80               0   \n",
       "996    100/300               1000                1436.79               0   \n",
       "997    250/500                500                1383.49         3000000   \n",
       "998   500/1000               2000                1356.92         5000000   \n",
       "999    250/500               1000                 766.19               0   \n",
       "\n",
       "     insured_zip  ... witnesses police_report_available total_claim_amount  \\\n",
       "995       431289  ...         1                       ?              87200   \n",
       "996       608177  ...         3                       ?             108480   \n",
       "997       442797  ...         3                     YES              67500   \n",
       "998       441714  ...         1                     YES              46980   \n",
       "999       612260  ...         3                       ?               5060   \n",
       "\n",
       "    injury_claim property_claim  vehicle_claim   auto_make auto_model  \\\n",
       "995        17440           8720          61040       Honda     Accord   \n",
       "996        18080          18080          72320  Volkswagen     Passat   \n",
       "997         7500           7500          52500      Suburu    Impreza   \n",
       "998         5220           5220          36540        Audi         A5   \n",
       "999          460            920           3680    Mercedes       E400   \n",
       "\n",
       "    auto_year fraud_reported  \n",
       "995      2006              N  \n",
       "996      2015              N  \n",
       "997      1996              N  \n",
       "998      1998              N  \n",
       "999      2007              N  \n",
       "\n",
       "[5 rows x 39 columns]"
      ]
     },
     "execution_count": 4,
     "metadata": {},
     "output_type": "execute_result"
    }
   ],
   "source": [
    "data.tail()"
   ]
  },
  {
   "cell_type": "code",
   "execution_count": 5,
   "id": "e8770039",
   "metadata": {},
   "outputs": [
    {
     "data": {
      "text/plain": [
       "(1000, 39)"
      ]
     },
     "execution_count": 5,
     "metadata": {},
     "output_type": "execute_result"
    }
   ],
   "source": [
    "data.shape"
   ]
  },
  {
   "cell_type": "code",
   "execution_count": 6,
   "id": "8be3f53b",
   "metadata": {},
   "outputs": [],
   "source": [
    "# Making a list of columns that are not necessary for prediction\n",
    "columns_to_drop = ['policy_number','policy_bind_date','policy_state','insured_zip','incident_location','incident_state','incident_city','insured_hobbies','auto_make','auto_model','auto_year']"
   ]
  },
  {
   "cell_type": "code",
   "execution_count": 7,
   "id": "936f6b9f",
   "metadata": {},
   "outputs": [],
   "source": [
    "# Dropping the unnecessary columns\n",
    "data.drop(columns = columns_to_drop, inplace=True)"
   ]
  },
  {
   "cell_type": "markdown",
   "id": "277ae579",
   "metadata": {},
   "source": [
    "### Handelling Missing Values"
   ]
  },
  {
   "cell_type": "code",
   "execution_count": 8,
   "id": "41f2eecb",
   "metadata": {},
   "outputs": [],
   "source": [
    "# In this dataset missing values have been denoted by '?'.\n",
    "# We are replacing '?' with NaN(not a number) value for them to be imputed down the line \n",
    "data = data.replace('?',np.nan)"
   ]
  },
  {
   "cell_type": "code",
   "execution_count": 9,
   "id": "f1a5a893",
   "metadata": {},
   "outputs": [
    {
     "data": {
      "text/html": [
       "<div>\n",
       "<style scoped>\n",
       "    .dataframe tbody tr th:only-of-type {\n",
       "        vertical-align: middle;\n",
       "    }\n",
       "\n",
       "    .dataframe tbody tr th {\n",
       "        vertical-align: top;\n",
       "    }\n",
       "\n",
       "    .dataframe thead th {\n",
       "        text-align: right;\n",
       "    }\n",
       "</style>\n",
       "<table border=\"1\" class=\"dataframe\">\n",
       "  <thead>\n",
       "    <tr style=\"text-align: right;\">\n",
       "      <th></th>\n",
       "      <th>months_as_customer</th>\n",
       "      <th>age</th>\n",
       "      <th>policy_csl</th>\n",
       "      <th>policy_deductable</th>\n",
       "      <th>policy_annual_premium</th>\n",
       "      <th>umbrella_limit</th>\n",
       "      <th>insured_sex</th>\n",
       "      <th>insured_education_level</th>\n",
       "      <th>insured_occupation</th>\n",
       "      <th>insured_relationship</th>\n",
       "      <th>...</th>\n",
       "      <th>number_of_vehicles_involved</th>\n",
       "      <th>property_damage</th>\n",
       "      <th>bodily_injuries</th>\n",
       "      <th>witnesses</th>\n",
       "      <th>police_report_available</th>\n",
       "      <th>total_claim_amount</th>\n",
       "      <th>injury_claim</th>\n",
       "      <th>property_claim</th>\n",
       "      <th>vehicle_claim</th>\n",
       "      <th>fraud_reported</th>\n",
       "    </tr>\n",
       "  </thead>\n",
       "  <tbody>\n",
       "    <tr>\n",
       "      <th>0</th>\n",
       "      <td>328</td>\n",
       "      <td>48</td>\n",
       "      <td>250/500</td>\n",
       "      <td>1000</td>\n",
       "      <td>1406.91</td>\n",
       "      <td>0</td>\n",
       "      <td>MALE</td>\n",
       "      <td>MD</td>\n",
       "      <td>craft-repair</td>\n",
       "      <td>husband</td>\n",
       "      <td>...</td>\n",
       "      <td>1</td>\n",
       "      <td>YES</td>\n",
       "      <td>1</td>\n",
       "      <td>2</td>\n",
       "      <td>YES</td>\n",
       "      <td>71610</td>\n",
       "      <td>6510</td>\n",
       "      <td>13020</td>\n",
       "      <td>52080</td>\n",
       "      <td>Y</td>\n",
       "    </tr>\n",
       "    <tr>\n",
       "      <th>1</th>\n",
       "      <td>228</td>\n",
       "      <td>42</td>\n",
       "      <td>250/500</td>\n",
       "      <td>2000</td>\n",
       "      <td>1197.22</td>\n",
       "      <td>5000000</td>\n",
       "      <td>MALE</td>\n",
       "      <td>MD</td>\n",
       "      <td>machine-op-inspct</td>\n",
       "      <td>other-relative</td>\n",
       "      <td>...</td>\n",
       "      <td>1</td>\n",
       "      <td>NaN</td>\n",
       "      <td>0</td>\n",
       "      <td>0</td>\n",
       "      <td>NaN</td>\n",
       "      <td>5070</td>\n",
       "      <td>780</td>\n",
       "      <td>780</td>\n",
       "      <td>3510</td>\n",
       "      <td>Y</td>\n",
       "    </tr>\n",
       "    <tr>\n",
       "      <th>2</th>\n",
       "      <td>134</td>\n",
       "      <td>29</td>\n",
       "      <td>100/300</td>\n",
       "      <td>2000</td>\n",
       "      <td>1413.14</td>\n",
       "      <td>5000000</td>\n",
       "      <td>FEMALE</td>\n",
       "      <td>PhD</td>\n",
       "      <td>sales</td>\n",
       "      <td>own-child</td>\n",
       "      <td>...</td>\n",
       "      <td>3</td>\n",
       "      <td>NO</td>\n",
       "      <td>2</td>\n",
       "      <td>3</td>\n",
       "      <td>NO</td>\n",
       "      <td>34650</td>\n",
       "      <td>7700</td>\n",
       "      <td>3850</td>\n",
       "      <td>23100</td>\n",
       "      <td>N</td>\n",
       "    </tr>\n",
       "    <tr>\n",
       "      <th>3</th>\n",
       "      <td>256</td>\n",
       "      <td>41</td>\n",
       "      <td>250/500</td>\n",
       "      <td>2000</td>\n",
       "      <td>1415.74</td>\n",
       "      <td>6000000</td>\n",
       "      <td>FEMALE</td>\n",
       "      <td>PhD</td>\n",
       "      <td>armed-forces</td>\n",
       "      <td>unmarried</td>\n",
       "      <td>...</td>\n",
       "      <td>1</td>\n",
       "      <td>NaN</td>\n",
       "      <td>1</td>\n",
       "      <td>2</td>\n",
       "      <td>NO</td>\n",
       "      <td>63400</td>\n",
       "      <td>6340</td>\n",
       "      <td>6340</td>\n",
       "      <td>50720</td>\n",
       "      <td>Y</td>\n",
       "    </tr>\n",
       "    <tr>\n",
       "      <th>4</th>\n",
       "      <td>228</td>\n",
       "      <td>44</td>\n",
       "      <td>500/1000</td>\n",
       "      <td>1000</td>\n",
       "      <td>1583.91</td>\n",
       "      <td>6000000</td>\n",
       "      <td>MALE</td>\n",
       "      <td>Associate</td>\n",
       "      <td>sales</td>\n",
       "      <td>unmarried</td>\n",
       "      <td>...</td>\n",
       "      <td>1</td>\n",
       "      <td>NO</td>\n",
       "      <td>0</td>\n",
       "      <td>1</td>\n",
       "      <td>NO</td>\n",
       "      <td>6500</td>\n",
       "      <td>1300</td>\n",
       "      <td>650</td>\n",
       "      <td>4550</td>\n",
       "      <td>N</td>\n",
       "    </tr>\n",
       "  </tbody>\n",
       "</table>\n",
       "<p>5 rows × 28 columns</p>\n",
       "</div>"
      ],
      "text/plain": [
       "   months_as_customer  age policy_csl  policy_deductable  \\\n",
       "0                 328   48    250/500               1000   \n",
       "1                 228   42    250/500               2000   \n",
       "2                 134   29    100/300               2000   \n",
       "3                 256   41    250/500               2000   \n",
       "4                 228   44   500/1000               1000   \n",
       "\n",
       "   policy_annual_premium  umbrella_limit insured_sex insured_education_level  \\\n",
       "0                1406.91               0        MALE                      MD   \n",
       "1                1197.22         5000000        MALE                      MD   \n",
       "2                1413.14         5000000      FEMALE                     PhD   \n",
       "3                1415.74         6000000      FEMALE                     PhD   \n",
       "4                1583.91         6000000        MALE               Associate   \n",
       "\n",
       "  insured_occupation insured_relationship  ...  number_of_vehicles_involved  \\\n",
       "0       craft-repair              husband  ...                            1   \n",
       "1  machine-op-inspct       other-relative  ...                            1   \n",
       "2              sales            own-child  ...                            3   \n",
       "3       armed-forces            unmarried  ...                            1   \n",
       "4              sales            unmarried  ...                            1   \n",
       "\n",
       "   property_damage bodily_injuries witnesses police_report_available  \\\n",
       "0              YES               1         2                     YES   \n",
       "1              NaN               0         0                     NaN   \n",
       "2               NO               2         3                      NO   \n",
       "3              NaN               1         2                      NO   \n",
       "4               NO               0         1                      NO   \n",
       "\n",
       "  total_claim_amount injury_claim  property_claim  vehicle_claim  \\\n",
       "0              71610         6510           13020          52080   \n",
       "1               5070          780             780           3510   \n",
       "2              34650         7700            3850          23100   \n",
       "3              63400         6340            6340          50720   \n",
       "4               6500         1300             650           4550   \n",
       "\n",
       "  fraud_reported  \n",
       "0              Y  \n",
       "1              Y  \n",
       "2              N  \n",
       "3              Y  \n",
       "4              N  \n",
       "\n",
       "[5 rows x 28 columns]"
      ]
     },
     "execution_count": 9,
     "metadata": {},
     "output_type": "execute_result"
    }
   ],
   "source": [
    "# Checking the data after dropping the columns\n",
    "data.head()"
   ]
  },
  {
   "cell_type": "code",
   "execution_count": 10,
   "id": "d4a63b4e",
   "metadata": {},
   "outputs": [
    {
     "data": {
      "text/plain": [
       "(1000, 28)"
      ]
     },
     "execution_count": 10,
     "metadata": {},
     "output_type": "execute_result"
    }
   ],
   "source": [
    "data.shape"
   ]
  },
  {
   "cell_type": "code",
   "execution_count": 11,
   "id": "88137662",
   "metadata": {},
   "outputs": [
    {
     "data": {
      "text/plain": [
       "months_as_customer               0\n",
       "age                              0\n",
       "policy_csl                       0\n",
       "policy_deductable                0\n",
       "policy_annual_premium            0\n",
       "umbrella_limit                   0\n",
       "insured_sex                      0\n",
       "insured_education_level          0\n",
       "insured_occupation               0\n",
       "insured_relationship             0\n",
       "capital-gains                    0\n",
       "capital-loss                     0\n",
       "incident_date                    0\n",
       "incident_type                    0\n",
       "collision_type                 178\n",
       "incident_severity                0\n",
       "authorities_contacted            0\n",
       "incident_hour_of_the_day         0\n",
       "number_of_vehicles_involved      0\n",
       "property_damage                360\n",
       "bodily_injuries                  0\n",
       "witnesses                        0\n",
       "police_report_available        343\n",
       "total_claim_amount               0\n",
       "injury_claim                     0\n",
       "property_claim                   0\n",
       "vehicle_claim                    0\n",
       "fraud_reported                   0\n",
       "dtype: int64"
      ]
     },
     "execution_count": 11,
     "metadata": {},
     "output_type": "execute_result"
    }
   ],
   "source": [
    "data.isnull().sum()"
   ]
  },
  {
   "cell_type": "code",
   "execution_count": 12,
   "id": "3caf3580",
   "metadata": {},
   "outputs": [
    {
     "name": "stdout",
     "output_type": "stream",
     "text": [
      "<class 'pandas.core.frame.DataFrame'>\n",
      "RangeIndex: 1000 entries, 0 to 999\n",
      "Data columns (total 28 columns):\n",
      " #   Column                       Non-Null Count  Dtype  \n",
      "---  ------                       --------------  -----  \n",
      " 0   months_as_customer           1000 non-null   int64  \n",
      " 1   age                          1000 non-null   int64  \n",
      " 2   policy_csl                   1000 non-null   object \n",
      " 3   policy_deductable            1000 non-null   int64  \n",
      " 4   policy_annual_premium        1000 non-null   float64\n",
      " 5   umbrella_limit               1000 non-null   int64  \n",
      " 6   insured_sex                  1000 non-null   object \n",
      " 7   insured_education_level      1000 non-null   object \n",
      " 8   insured_occupation           1000 non-null   object \n",
      " 9   insured_relationship         1000 non-null   object \n",
      " 10  capital-gains                1000 non-null   int64  \n",
      " 11  capital-loss                 1000 non-null   int64  \n",
      " 12  incident_date                1000 non-null   object \n",
      " 13  incident_type                1000 non-null   object \n",
      " 14  collision_type               822 non-null    object \n",
      " 15  incident_severity            1000 non-null   object \n",
      " 16  authorities_contacted        1000 non-null   object \n",
      " 17  incident_hour_of_the_day     1000 non-null   int64  \n",
      " 18  number_of_vehicles_involved  1000 non-null   int64  \n",
      " 19  property_damage              640 non-null    object \n",
      " 20  bodily_injuries              1000 non-null   int64  \n",
      " 21  witnesses                    1000 non-null   int64  \n",
      " 22  police_report_available      657 non-null    object \n",
      " 23  total_claim_amount           1000 non-null   int64  \n",
      " 24  injury_claim                 1000 non-null   int64  \n",
      " 25  property_claim               1000 non-null   int64  \n",
      " 26  vehicle_claim                1000 non-null   int64  \n",
      " 27  fraud_reported               1000 non-null   object \n",
      "dtypes: float64(1), int64(14), object(13)\n",
      "memory usage: 218.9+ KB\n"
     ]
    }
   ],
   "source": [
    "#checking for the number of categorical and numerical variable.\n",
    "data.info()\n",
    "# As we see collision_type, property_damage & police_report_available all \n",
    "# are categorical columns so based on that we are going to have an imputation strategy"
   ]
  },
  {
   "cell_type": "code",
   "execution_count": 13,
   "id": "c9a155f4",
   "metadata": {},
   "outputs": [
    {
     "name": "stdout",
     "output_type": "stream",
     "text": [
      "Requirement already satisfied: sklearn-pandas in c:\\users\\khyati\\anaconda3\\lib\\site-packages (2.2.0)\n",
      "Requirement already satisfied: numpy>=1.18.1 in c:\\users\\khyati\\anaconda3\\lib\\site-packages (from sklearn-pandas) (1.23.5)\n",
      "Requirement already satisfied: pandas>=1.1.4 in c:\\users\\khyati\\anaconda3\\lib\\site-packages (from sklearn-pandas) (1.4.2)\n",
      "Requirement already satisfied: scipy>=1.5.1 in c:\\users\\khyati\\anaconda3\\lib\\site-packages (from sklearn-pandas) (1.10.1)\n",
      "Requirement already satisfied: scikit-learn>=0.23.0 in c:\\users\\khyati\\anaconda3\\lib\\site-packages (from sklearn-pandas) (1.3.0)\n",
      "Requirement already satisfied: pytz>=2020.1 in c:\\users\\khyati\\anaconda3\\lib\\site-packages (from pandas>=1.1.4->sklearn-pandas) (2021.3)\n",
      "Requirement already satisfied: python-dateutil>=2.8.1 in c:\\users\\khyati\\anaconda3\\lib\\site-packages (from pandas>=1.1.4->sklearn-pandas) (2.8.2)\n",
      "Requirement already satisfied: six>=1.5 in c:\\users\\khyati\\anaconda3\\lib\\site-packages (from python-dateutil>=2.8.1->pandas>=1.1.4->sklearn-pandas) (1.16.0)\n",
      "Requirement already satisfied: joblib>=1.1.1 in c:\\users\\khyati\\anaconda3\\lib\\site-packages (from scikit-learn>=0.23.0->sklearn-pandas) (1.3.1)\n",
      "Requirement already satisfied: threadpoolctl>=2.0.0 in c:\\users\\khyati\\anaconda3\\lib\\site-packages (from scikit-learn>=0.23.0->sklearn-pandas) (3.2.0)\n"
     ]
    }
   ],
   "source": [
    "!pip install sklearn-pandas"
   ]
  },
  {
   "cell_type": "code",
   "execution_count": 14,
   "id": "e1ebdb77",
   "metadata": {},
   "outputs": [],
   "source": [
    "    # Mode imputation for 'collision_type' column\n",
    "most_frequent_category = data['collision_type'].mode().iloc[0]\n",
    "data['collision_type'] = data['collision_type'].fillna(most_frequent_category)\n",
    "\n",
    "# Mode imputation for 'property_damage'column\n",
    "most_frequent_category = data['property_damage'].mode().iloc[0]\n",
    "data['property_damage'] = data['property_damage'].fillna(most_frequent_category)\n",
    "\n",
    "# Mode imputation for 'police_report_available' column\n",
    "most_frequent_category = data['police_report_available'].mode().iloc[0]\n",
    "data['police_report_available'] = data['police_report_available'].fillna(most_frequent_category)\n",
    "\n"
   ]
  },
  {
   "cell_type": "code",
   "execution_count": 15,
   "id": "cd041dee",
   "metadata": {
    "scrolled": true
   },
   "outputs": [],
   "source": [
    "# Extracting the categorical columns\n",
    "cat_df = data.select_dtypes(include = ['object']).copy()"
   ]
  },
  {
   "cell_type": "code",
   "execution_count": 16,
   "id": "6d3a3ebe",
   "metadata": {
    "scrolled": true
   },
   "outputs": [
    {
     "data": {
      "text/html": [
       "<div>\n",
       "<style scoped>\n",
       "    .dataframe tbody tr th:only-of-type {\n",
       "        vertical-align: middle;\n",
       "    }\n",
       "\n",
       "    .dataframe tbody tr th {\n",
       "        vertical-align: top;\n",
       "    }\n",
       "\n",
       "    .dataframe thead th {\n",
       "        text-align: right;\n",
       "    }\n",
       "</style>\n",
       "<table border=\"1\" class=\"dataframe\">\n",
       "  <thead>\n",
       "    <tr style=\"text-align: right;\">\n",
       "      <th></th>\n",
       "      <th>policy_csl</th>\n",
       "      <th>insured_sex</th>\n",
       "      <th>insured_education_level</th>\n",
       "      <th>insured_occupation</th>\n",
       "      <th>insured_relationship</th>\n",
       "      <th>incident_date</th>\n",
       "      <th>incident_type</th>\n",
       "      <th>collision_type</th>\n",
       "      <th>incident_severity</th>\n",
       "      <th>authorities_contacted</th>\n",
       "      <th>property_damage</th>\n",
       "      <th>police_report_available</th>\n",
       "      <th>fraud_reported</th>\n",
       "    </tr>\n",
       "  </thead>\n",
       "  <tbody>\n",
       "    <tr>\n",
       "      <th>0</th>\n",
       "      <td>250/500</td>\n",
       "      <td>MALE</td>\n",
       "      <td>MD</td>\n",
       "      <td>craft-repair</td>\n",
       "      <td>husband</td>\n",
       "      <td>1/25/2015</td>\n",
       "      <td>Single Vehicle Collision</td>\n",
       "      <td>Side Collision</td>\n",
       "      <td>Major Damage</td>\n",
       "      <td>Police</td>\n",
       "      <td>YES</td>\n",
       "      <td>YES</td>\n",
       "      <td>Y</td>\n",
       "    </tr>\n",
       "    <tr>\n",
       "      <th>1</th>\n",
       "      <td>250/500</td>\n",
       "      <td>MALE</td>\n",
       "      <td>MD</td>\n",
       "      <td>machine-op-inspct</td>\n",
       "      <td>other-relative</td>\n",
       "      <td>1/21/2015</td>\n",
       "      <td>Vehicle Theft</td>\n",
       "      <td>Rear Collision</td>\n",
       "      <td>Minor Damage</td>\n",
       "      <td>Police</td>\n",
       "      <td>NO</td>\n",
       "      <td>NO</td>\n",
       "      <td>Y</td>\n",
       "    </tr>\n",
       "    <tr>\n",
       "      <th>2</th>\n",
       "      <td>100/300</td>\n",
       "      <td>FEMALE</td>\n",
       "      <td>PhD</td>\n",
       "      <td>sales</td>\n",
       "      <td>own-child</td>\n",
       "      <td>2/22/2015</td>\n",
       "      <td>Multi-vehicle Collision</td>\n",
       "      <td>Rear Collision</td>\n",
       "      <td>Minor Damage</td>\n",
       "      <td>Police</td>\n",
       "      <td>NO</td>\n",
       "      <td>NO</td>\n",
       "      <td>N</td>\n",
       "    </tr>\n",
       "    <tr>\n",
       "      <th>3</th>\n",
       "      <td>250/500</td>\n",
       "      <td>FEMALE</td>\n",
       "      <td>PhD</td>\n",
       "      <td>armed-forces</td>\n",
       "      <td>unmarried</td>\n",
       "      <td>1/10/2015</td>\n",
       "      <td>Single Vehicle Collision</td>\n",
       "      <td>Front Collision</td>\n",
       "      <td>Major Damage</td>\n",
       "      <td>Police</td>\n",
       "      <td>NO</td>\n",
       "      <td>NO</td>\n",
       "      <td>Y</td>\n",
       "    </tr>\n",
       "    <tr>\n",
       "      <th>4</th>\n",
       "      <td>500/1000</td>\n",
       "      <td>MALE</td>\n",
       "      <td>Associate</td>\n",
       "      <td>sales</td>\n",
       "      <td>unmarried</td>\n",
       "      <td>2/17/2015</td>\n",
       "      <td>Vehicle Theft</td>\n",
       "      <td>Rear Collision</td>\n",
       "      <td>Minor Damage</td>\n",
       "      <td>None</td>\n",
       "      <td>NO</td>\n",
       "      <td>NO</td>\n",
       "      <td>N</td>\n",
       "    </tr>\n",
       "  </tbody>\n",
       "</table>\n",
       "</div>"
      ],
      "text/plain": [
       "  policy_csl insured_sex insured_education_level insured_occupation  \\\n",
       "0    250/500        MALE                      MD       craft-repair   \n",
       "1    250/500        MALE                      MD  machine-op-inspct   \n",
       "2    100/300      FEMALE                     PhD              sales   \n",
       "3    250/500      FEMALE                     PhD       armed-forces   \n",
       "4   500/1000        MALE               Associate              sales   \n",
       "\n",
       "  insured_relationship incident_date             incident_type  \\\n",
       "0              husband     1/25/2015  Single Vehicle Collision   \n",
       "1       other-relative     1/21/2015             Vehicle Theft   \n",
       "2            own-child     2/22/2015   Multi-vehicle Collision   \n",
       "3            unmarried     1/10/2015  Single Vehicle Collision   \n",
       "4            unmarried     2/17/2015             Vehicle Theft   \n",
       "\n",
       "    collision_type incident_severity authorities_contacted property_damage  \\\n",
       "0   Side Collision      Major Damage                Police             YES   \n",
       "1   Rear Collision      Minor Damage                Police              NO   \n",
       "2   Rear Collision      Minor Damage                Police              NO   \n",
       "3  Front Collision      Major Damage                Police              NO   \n",
       "4   Rear Collision      Minor Damage                  None              NO   \n",
       "\n",
       "  police_report_available fraud_reported  \n",
       "0                     YES              Y  \n",
       "1                      NO              Y  \n",
       "2                      NO              N  \n",
       "3                      NO              Y  \n",
       "4                      NO              N  "
      ]
     },
     "execution_count": 16,
     "metadata": {},
     "output_type": "execute_result"
    }
   ],
   "source": [
    "cat_df.head()"
   ]
  },
  {
   "cell_type": "code",
   "execution_count": 17,
   "id": "a46353be",
   "metadata": {},
   "outputs": [
    {
     "data": {
      "text/plain": [
       "(1000, 13)"
      ]
     },
     "execution_count": 17,
     "metadata": {},
     "output_type": "execute_result"
    }
   ],
   "source": [
    "cat_df.shape"
   ]
  },
  {
   "cell_type": "markdown",
   "id": "e1a3a828",
   "metadata": {},
   "source": [
    "* Checking the categorical values present in the column to decide for getDummies encode or custom mapping to convert categorical data to numerical one. "
   ]
  },
  {
   "cell_type": "code",
   "execution_count": 18,
   "id": "f393ea66",
   "metadata": {},
   "outputs": [
    {
     "data": {
      "text/plain": [
       "Index(['policy_csl', 'insured_sex', 'insured_education_level',\n",
       "       'insured_occupation', 'insured_relationship', 'incident_date',\n",
       "       'incident_type', 'collision_type', 'incident_severity',\n",
       "       'authorities_contacted', 'property_damage', 'police_report_available',\n",
       "       'fraud_reported'],\n",
       "      dtype='object')"
      ]
     },
     "execution_count": 18,
     "metadata": {},
     "output_type": "execute_result"
    }
   ],
   "source": [
    "cat_df.columns"
   ]
  },
  {
   "cell_type": "markdown",
   "id": "ef1753e5",
   "metadata": {},
   "source": [
    "Checking unique values in each column."
   ]
  },
  {
   "cell_type": "code",
   "execution_count": 19,
   "id": "f17942d4",
   "metadata": {},
   "outputs": [
    {
     "data": {
      "text/plain": [
       "array(['250/500', '100/300', '500/1000'], dtype=object)"
      ]
     },
     "execution_count": 19,
     "metadata": {},
     "output_type": "execute_result"
    }
   ],
   "source": [
    "cat_df['policy_csl'].unique()"
   ]
  },
  {
   "cell_type": "code",
   "execution_count": null,
   "id": "7b812a7d",
   "metadata": {},
   "outputs": [],
   "source": [
    "cat_df['insured_sex'].unique()"
   ]
  },
  {
   "cell_type": "code",
   "execution_count": null,
   "id": "86a937dd",
   "metadata": {},
   "outputs": [],
   "source": [
    "cat_df['insured_education_level'].unique()"
   ]
  },
  {
   "cell_type": "code",
   "execution_count": null,
   "id": "905b402d",
   "metadata": {},
   "outputs": [],
   "source": [
    "#cat_df['insured_occupation'].unique()"
   ]
  },
  {
   "cell_type": "code",
   "execution_count": null,
   "id": "8a59b433",
   "metadata": {},
   "outputs": [],
   "source": [
    "#cat_df['insured_relationship'].unique()"
   ]
  },
  {
   "cell_type": "code",
   "execution_count": null,
   "id": "7a576db5",
   "metadata": {},
   "outputs": [],
   "source": [
    "#cat_df['incident_date'].unique()"
   ]
  },
  {
   "cell_type": "code",
   "execution_count": null,
   "id": "61223df3",
   "metadata": {},
   "outputs": [],
   "source": [
    "#cat_df['incident_type'].unique()"
   ]
  },
  {
   "cell_type": "code",
   "execution_count": null,
   "id": "f97b5f7f",
   "metadata": {},
   "outputs": [],
   "source": [
    "#cat_df['collision_type'].unique()"
   ]
  },
  {
   "cell_type": "code",
   "execution_count": null,
   "id": "88e43f50",
   "metadata": {},
   "outputs": [],
   "source": [
    "cat_df['incident_severity'].unique()"
   ]
  },
  {
   "cell_type": "code",
   "execution_count": null,
   "id": "9f395dba",
   "metadata": {},
   "outputs": [],
   "source": [
    "#cat_df['authorities_contacted'].unique()"
   ]
  },
  {
   "cell_type": "code",
   "execution_count": null,
   "id": "5d18fa09",
   "metadata": {},
   "outputs": [],
   "source": [
    "cat_df['property_damage'].unique()"
   ]
  },
  {
   "cell_type": "code",
   "execution_count": null,
   "id": "50caad92",
   "metadata": {},
   "outputs": [],
   "source": [
    "cat_df['police_report_available'].unique()"
   ]
  },
  {
   "cell_type": "code",
   "execution_count": null,
   "id": "446164b8",
   "metadata": {},
   "outputs": [],
   "source": [
    "cat_df['fraud_reported'].unique()"
   ]
  },
  {
   "cell_type": "markdown",
   "id": "ab444de8",
   "metadata": {},
   "source": [
    "### Encoding Categorical Columns"
   ]
  },
  {
   "cell_type": "code",
   "execution_count": 20,
   "id": "a9ebfa45",
   "metadata": {},
   "outputs": [],
   "source": [
    "# Custom mapping(label encoding or ordinal encoding) for encoding when dealing with ordinal categorical data, \n",
    "# where the categories have a meaningful order or ranking.\n",
    "\n",
    "cat_df['policy_csl'] = cat_df['policy_csl'].map({'250/500':2.5, '100/300':1, '500/1000':5})\n",
    "cat_df['insured_sex'] = cat_df['insured_sex'].map({'MALE':0, 'FEMALE':1})\n",
    "cat_df['insured_education_level'] = cat_df['insured_education_level'].map({'JD':1,'High School':2,'College':3,'Masters':4,'Associate':5,'MD':6,'PhD':7})\n",
    "cat_df['incident_severity'] = cat_df['incident_severity'].map({'Trivial Damage':1,'Minor Damage':2,'Major Damage':3,'Total Loss':4})\n",
    "cat_df['property_damage'] = cat_df['property_damage'].map({'YES':1, 'NO':0})\n",
    "cat_df['police_report_available'] = cat_df['police_report_available'].map({'YES':1, 'NO':0})\n",
    "cat_df['fraud_reported'] = cat_df['fraud_reported'].map({'Y':1, 'N':0})\n"
   ]
  },
  {
   "cell_type": "code",
   "execution_count": 21,
   "id": "147bac2d",
   "metadata": {},
   "outputs": [],
   "source": [
    "# Auto encoding or One-Hot Encoding or dummy encoding with the help of \"get_dummies\" when dealing with nominal categorical data,\n",
    "# where the categories have no inherent order or ranking.\n",
    "# get_dummies creates binary columns for each category, which is helpful when the order of categories doesn't matter.\n",
    "\n",
    "for col in cat_df.drop(columns = ['policy_csl', 'insured_sex', 'insured_education_level','incident_severity',\n",
    "                                  'property_damage', 'police_report_available','fraud_reported']).columns:cat_df = pd.get_dummies(cat_df,columns = [col], prefix = [col], drop_first = True)"
   ]
  },
  {
   "cell_type": "code",
   "execution_count": 22,
   "id": "6c0cf099",
   "metadata": {},
   "outputs": [
    {
     "data": {
      "text/html": [
       "<div>\n",
       "<style scoped>\n",
       "    .dataframe tbody tr th:only-of-type {\n",
       "        vertical-align: middle;\n",
       "    }\n",
       "\n",
       "    .dataframe tbody tr th {\n",
       "        vertical-align: top;\n",
       "    }\n",
       "\n",
       "    .dataframe thead th {\n",
       "        text-align: right;\n",
       "    }\n",
       "</style>\n",
       "<table border=\"1\" class=\"dataframe\">\n",
       "  <thead>\n",
       "    <tr style=\"text-align: right;\">\n",
       "      <th></th>\n",
       "      <th>policy_csl</th>\n",
       "      <th>insured_sex</th>\n",
       "      <th>insured_education_level</th>\n",
       "      <th>incident_severity</th>\n",
       "      <th>property_damage</th>\n",
       "      <th>police_report_available</th>\n",
       "      <th>fraud_reported</th>\n",
       "      <th>insured_occupation_armed-forces</th>\n",
       "      <th>insured_occupation_craft-repair</th>\n",
       "      <th>insured_occupation_exec-managerial</th>\n",
       "      <th>...</th>\n",
       "      <th>incident_date_3/1/2015</th>\n",
       "      <th>incident_type_Parked Car</th>\n",
       "      <th>incident_type_Single Vehicle Collision</th>\n",
       "      <th>incident_type_Vehicle Theft</th>\n",
       "      <th>collision_type_Rear Collision</th>\n",
       "      <th>collision_type_Side Collision</th>\n",
       "      <th>authorities_contacted_Fire</th>\n",
       "      <th>authorities_contacted_None</th>\n",
       "      <th>authorities_contacted_Other</th>\n",
       "      <th>authorities_contacted_Police</th>\n",
       "    </tr>\n",
       "  </thead>\n",
       "  <tbody>\n",
       "    <tr>\n",
       "      <th>0</th>\n",
       "      <td>2.5</td>\n",
       "      <td>0</td>\n",
       "      <td>6</td>\n",
       "      <td>3</td>\n",
       "      <td>1</td>\n",
       "      <td>1</td>\n",
       "      <td>1</td>\n",
       "      <td>0</td>\n",
       "      <td>1</td>\n",
       "      <td>0</td>\n",
       "      <td>...</td>\n",
       "      <td>0</td>\n",
       "      <td>0</td>\n",
       "      <td>1</td>\n",
       "      <td>0</td>\n",
       "      <td>0</td>\n",
       "      <td>1</td>\n",
       "      <td>0</td>\n",
       "      <td>0</td>\n",
       "      <td>0</td>\n",
       "      <td>1</td>\n",
       "    </tr>\n",
       "    <tr>\n",
       "      <th>1</th>\n",
       "      <td>2.5</td>\n",
       "      <td>0</td>\n",
       "      <td>6</td>\n",
       "      <td>2</td>\n",
       "      <td>0</td>\n",
       "      <td>0</td>\n",
       "      <td>1</td>\n",
       "      <td>0</td>\n",
       "      <td>0</td>\n",
       "      <td>0</td>\n",
       "      <td>...</td>\n",
       "      <td>0</td>\n",
       "      <td>0</td>\n",
       "      <td>0</td>\n",
       "      <td>1</td>\n",
       "      <td>1</td>\n",
       "      <td>0</td>\n",
       "      <td>0</td>\n",
       "      <td>0</td>\n",
       "      <td>0</td>\n",
       "      <td>1</td>\n",
       "    </tr>\n",
       "    <tr>\n",
       "      <th>2</th>\n",
       "      <td>1.0</td>\n",
       "      <td>1</td>\n",
       "      <td>7</td>\n",
       "      <td>2</td>\n",
       "      <td>0</td>\n",
       "      <td>0</td>\n",
       "      <td>0</td>\n",
       "      <td>0</td>\n",
       "      <td>0</td>\n",
       "      <td>0</td>\n",
       "      <td>...</td>\n",
       "      <td>0</td>\n",
       "      <td>0</td>\n",
       "      <td>0</td>\n",
       "      <td>0</td>\n",
       "      <td>1</td>\n",
       "      <td>0</td>\n",
       "      <td>0</td>\n",
       "      <td>0</td>\n",
       "      <td>0</td>\n",
       "      <td>1</td>\n",
       "    </tr>\n",
       "    <tr>\n",
       "      <th>3</th>\n",
       "      <td>2.5</td>\n",
       "      <td>1</td>\n",
       "      <td>7</td>\n",
       "      <td>3</td>\n",
       "      <td>0</td>\n",
       "      <td>0</td>\n",
       "      <td>1</td>\n",
       "      <td>1</td>\n",
       "      <td>0</td>\n",
       "      <td>0</td>\n",
       "      <td>...</td>\n",
       "      <td>0</td>\n",
       "      <td>0</td>\n",
       "      <td>1</td>\n",
       "      <td>0</td>\n",
       "      <td>0</td>\n",
       "      <td>0</td>\n",
       "      <td>0</td>\n",
       "      <td>0</td>\n",
       "      <td>0</td>\n",
       "      <td>1</td>\n",
       "    </tr>\n",
       "    <tr>\n",
       "      <th>4</th>\n",
       "      <td>5.0</td>\n",
       "      <td>0</td>\n",
       "      <td>5</td>\n",
       "      <td>2</td>\n",
       "      <td>0</td>\n",
       "      <td>0</td>\n",
       "      <td>0</td>\n",
       "      <td>0</td>\n",
       "      <td>0</td>\n",
       "      <td>0</td>\n",
       "      <td>...</td>\n",
       "      <td>0</td>\n",
       "      <td>0</td>\n",
       "      <td>0</td>\n",
       "      <td>1</td>\n",
       "      <td>1</td>\n",
       "      <td>0</td>\n",
       "      <td>0</td>\n",
       "      <td>1</td>\n",
       "      <td>0</td>\n",
       "      <td>0</td>\n",
       "    </tr>\n",
       "  </tbody>\n",
       "</table>\n",
       "<p>5 rows × 93 columns</p>\n",
       "</div>"
      ],
      "text/plain": [
       "   policy_csl  insured_sex  insured_education_level  incident_severity  \\\n",
       "0         2.5            0                        6                  3   \n",
       "1         2.5            0                        6                  2   \n",
       "2         1.0            1                        7                  2   \n",
       "3         2.5            1                        7                  3   \n",
       "4         5.0            0                        5                  2   \n",
       "\n",
       "   property_damage  police_report_available  fraud_reported  \\\n",
       "0                1                        1               1   \n",
       "1                0                        0               1   \n",
       "2                0                        0               0   \n",
       "3                0                        0               1   \n",
       "4                0                        0               0   \n",
       "\n",
       "   insured_occupation_armed-forces  insured_occupation_craft-repair  \\\n",
       "0                                0                                1   \n",
       "1                                0                                0   \n",
       "2                                0                                0   \n",
       "3                                1                                0   \n",
       "4                                0                                0   \n",
       "\n",
       "   insured_occupation_exec-managerial  ...  incident_date_3/1/2015  \\\n",
       "0                                   0  ...                       0   \n",
       "1                                   0  ...                       0   \n",
       "2                                   0  ...                       0   \n",
       "3                                   0  ...                       0   \n",
       "4                                   0  ...                       0   \n",
       "\n",
       "   incident_type_Parked Car  incident_type_Single Vehicle Collision  \\\n",
       "0                         0                                       1   \n",
       "1                         0                                       0   \n",
       "2                         0                                       0   \n",
       "3                         0                                       1   \n",
       "4                         0                                       0   \n",
       "\n",
       "   incident_type_Vehicle Theft  collision_type_Rear Collision  \\\n",
       "0                            0                              0   \n",
       "1                            1                              1   \n",
       "2                            0                              1   \n",
       "3                            0                              0   \n",
       "4                            1                              1   \n",
       "\n",
       "   collision_type_Side Collision  authorities_contacted_Fire  \\\n",
       "0                              1                           0   \n",
       "1                              0                           0   \n",
       "2                              0                           0   \n",
       "3                              0                           0   \n",
       "4                              0                           0   \n",
       "\n",
       "   authorities_contacted_None  authorities_contacted_Other  \\\n",
       "0                           0                            0   \n",
       "1                           0                            0   \n",
       "2                           0                            0   \n",
       "3                           0                            0   \n",
       "4                           1                            0   \n",
       "\n",
       "   authorities_contacted_Police  \n",
       "0                             1  \n",
       "1                             1  \n",
       "2                             1  \n",
       "3                             1  \n",
       "4                             0  \n",
       "\n",
       "[5 rows x 93 columns]"
      ]
     },
     "execution_count": 22,
     "metadata": {},
     "output_type": "execute_result"
    }
   ],
   "source": [
    "cat_df.head()"
   ]
  },
  {
   "cell_type": "code",
   "execution_count": 23,
   "id": "0d0e25a7",
   "metadata": {},
   "outputs": [],
   "source": [
    "# Extracting the numerical columns\n",
    "num_df = data.select_dtypes(include = ['int64']).copy()"
   ]
  },
  {
   "cell_type": "code",
   "execution_count": 24,
   "id": "bea1b281",
   "metadata": {},
   "outputs": [
    {
     "data": {
      "text/html": [
       "<div>\n",
       "<style scoped>\n",
       "    .dataframe tbody tr th:only-of-type {\n",
       "        vertical-align: middle;\n",
       "    }\n",
       "\n",
       "    .dataframe tbody tr th {\n",
       "        vertical-align: top;\n",
       "    }\n",
       "\n",
       "    .dataframe thead th {\n",
       "        text-align: right;\n",
       "    }\n",
       "</style>\n",
       "<table border=\"1\" class=\"dataframe\">\n",
       "  <thead>\n",
       "    <tr style=\"text-align: right;\">\n",
       "      <th></th>\n",
       "      <th>months_as_customer</th>\n",
       "      <th>age</th>\n",
       "      <th>policy_deductable</th>\n",
       "      <th>umbrella_limit</th>\n",
       "      <th>capital-gains</th>\n",
       "      <th>capital-loss</th>\n",
       "      <th>incident_hour_of_the_day</th>\n",
       "      <th>number_of_vehicles_involved</th>\n",
       "      <th>bodily_injuries</th>\n",
       "      <th>witnesses</th>\n",
       "      <th>total_claim_amount</th>\n",
       "      <th>injury_claim</th>\n",
       "      <th>property_claim</th>\n",
       "      <th>vehicle_claim</th>\n",
       "    </tr>\n",
       "  </thead>\n",
       "  <tbody>\n",
       "    <tr>\n",
       "      <th>0</th>\n",
       "      <td>328</td>\n",
       "      <td>48</td>\n",
       "      <td>1000</td>\n",
       "      <td>0</td>\n",
       "      <td>53300</td>\n",
       "      <td>0</td>\n",
       "      <td>5</td>\n",
       "      <td>1</td>\n",
       "      <td>1</td>\n",
       "      <td>2</td>\n",
       "      <td>71610</td>\n",
       "      <td>6510</td>\n",
       "      <td>13020</td>\n",
       "      <td>52080</td>\n",
       "    </tr>\n",
       "    <tr>\n",
       "      <th>1</th>\n",
       "      <td>228</td>\n",
       "      <td>42</td>\n",
       "      <td>2000</td>\n",
       "      <td>5000000</td>\n",
       "      <td>0</td>\n",
       "      <td>0</td>\n",
       "      <td>8</td>\n",
       "      <td>1</td>\n",
       "      <td>0</td>\n",
       "      <td>0</td>\n",
       "      <td>5070</td>\n",
       "      <td>780</td>\n",
       "      <td>780</td>\n",
       "      <td>3510</td>\n",
       "    </tr>\n",
       "    <tr>\n",
       "      <th>2</th>\n",
       "      <td>134</td>\n",
       "      <td>29</td>\n",
       "      <td>2000</td>\n",
       "      <td>5000000</td>\n",
       "      <td>35100</td>\n",
       "      <td>0</td>\n",
       "      <td>7</td>\n",
       "      <td>3</td>\n",
       "      <td>2</td>\n",
       "      <td>3</td>\n",
       "      <td>34650</td>\n",
       "      <td>7700</td>\n",
       "      <td>3850</td>\n",
       "      <td>23100</td>\n",
       "    </tr>\n",
       "    <tr>\n",
       "      <th>3</th>\n",
       "      <td>256</td>\n",
       "      <td>41</td>\n",
       "      <td>2000</td>\n",
       "      <td>6000000</td>\n",
       "      <td>48900</td>\n",
       "      <td>-62400</td>\n",
       "      <td>5</td>\n",
       "      <td>1</td>\n",
       "      <td>1</td>\n",
       "      <td>2</td>\n",
       "      <td>63400</td>\n",
       "      <td>6340</td>\n",
       "      <td>6340</td>\n",
       "      <td>50720</td>\n",
       "    </tr>\n",
       "    <tr>\n",
       "      <th>4</th>\n",
       "      <td>228</td>\n",
       "      <td>44</td>\n",
       "      <td>1000</td>\n",
       "      <td>6000000</td>\n",
       "      <td>66000</td>\n",
       "      <td>-46000</td>\n",
       "      <td>20</td>\n",
       "      <td>1</td>\n",
       "      <td>0</td>\n",
       "      <td>1</td>\n",
       "      <td>6500</td>\n",
       "      <td>1300</td>\n",
       "      <td>650</td>\n",
       "      <td>4550</td>\n",
       "    </tr>\n",
       "  </tbody>\n",
       "</table>\n",
       "</div>"
      ],
      "text/plain": [
       "   months_as_customer  age  policy_deductable  umbrella_limit  capital-gains  \\\n",
       "0                 328   48               1000               0          53300   \n",
       "1                 228   42               2000         5000000              0   \n",
       "2                 134   29               2000         5000000          35100   \n",
       "3                 256   41               2000         6000000          48900   \n",
       "4                 228   44               1000         6000000          66000   \n",
       "\n",
       "   capital-loss  incident_hour_of_the_day  number_of_vehicles_involved  \\\n",
       "0             0                         5                            1   \n",
       "1             0                         8                            1   \n",
       "2             0                         7                            3   \n",
       "3        -62400                         5                            1   \n",
       "4        -46000                        20                            1   \n",
       "\n",
       "   bodily_injuries  witnesses  total_claim_amount  injury_claim  \\\n",
       "0                1          2               71610          6510   \n",
       "1                0          0                5070           780   \n",
       "2                2          3               34650          7700   \n",
       "3                1          2               63400          6340   \n",
       "4                0          1                6500          1300   \n",
       "\n",
       "   property_claim  vehicle_claim  \n",
       "0           13020          52080  \n",
       "1             780           3510  \n",
       "2            3850          23100  \n",
       "3            6340          50720  \n",
       "4             650           4550  "
      ]
     },
     "execution_count": 24,
     "metadata": {},
     "output_type": "execute_result"
    }
   ],
   "source": [
    "num_df.head()"
   ]
  },
  {
   "cell_type": "code",
   "execution_count": 25,
   "id": "d861ffdd",
   "metadata": {},
   "outputs": [
    {
     "data": {
      "text/plain": [
       "Index(['months_as_customer', 'age', 'policy_deductable', 'umbrella_limit',\n",
       "       'capital-gains', 'capital-loss', 'incident_hour_of_the_day',\n",
       "       'number_of_vehicles_involved', 'bodily_injuries', 'witnesses',\n",
       "       'total_claim_amount', 'injury_claim', 'property_claim',\n",
       "       'vehicle_claim'],\n",
       "      dtype='object')"
      ]
     },
     "execution_count": 25,
     "metadata": {},
     "output_type": "execute_result"
    }
   ],
   "source": [
    "num_df.columns"
   ]
  },
  {
   "cell_type": "code",
   "execution_count": 26,
   "id": "88a20618",
   "metadata": {},
   "outputs": [],
   "source": [
    "# Combining the numerical and categorical dataframes to get our final dataframe\n",
    "\n",
    "final_df = pd.concat([num_df,cat_df], axis = 1) "
   ]
  },
  {
   "cell_type": "code",
   "execution_count": 27,
   "id": "20c69d77",
   "metadata": {
    "scrolled": true
   },
   "outputs": [
    {
     "data": {
      "text/html": [
       "<div>\n",
       "<style scoped>\n",
       "    .dataframe tbody tr th:only-of-type {\n",
       "        vertical-align: middle;\n",
       "    }\n",
       "\n",
       "    .dataframe tbody tr th {\n",
       "        vertical-align: top;\n",
       "    }\n",
       "\n",
       "    .dataframe thead th {\n",
       "        text-align: right;\n",
       "    }\n",
       "</style>\n",
       "<table border=\"1\" class=\"dataframe\">\n",
       "  <thead>\n",
       "    <tr style=\"text-align: right;\">\n",
       "      <th></th>\n",
       "      <th>months_as_customer</th>\n",
       "      <th>age</th>\n",
       "      <th>policy_deductable</th>\n",
       "      <th>umbrella_limit</th>\n",
       "      <th>capital-gains</th>\n",
       "      <th>capital-loss</th>\n",
       "      <th>incident_hour_of_the_day</th>\n",
       "      <th>number_of_vehicles_involved</th>\n",
       "      <th>bodily_injuries</th>\n",
       "      <th>witnesses</th>\n",
       "      <th>...</th>\n",
       "      <th>incident_date_3/1/2015</th>\n",
       "      <th>incident_type_Parked Car</th>\n",
       "      <th>incident_type_Single Vehicle Collision</th>\n",
       "      <th>incident_type_Vehicle Theft</th>\n",
       "      <th>collision_type_Rear Collision</th>\n",
       "      <th>collision_type_Side Collision</th>\n",
       "      <th>authorities_contacted_Fire</th>\n",
       "      <th>authorities_contacted_None</th>\n",
       "      <th>authorities_contacted_Other</th>\n",
       "      <th>authorities_contacted_Police</th>\n",
       "    </tr>\n",
       "  </thead>\n",
       "  <tbody>\n",
       "    <tr>\n",
       "      <th>0</th>\n",
       "      <td>328</td>\n",
       "      <td>48</td>\n",
       "      <td>1000</td>\n",
       "      <td>0</td>\n",
       "      <td>53300</td>\n",
       "      <td>0</td>\n",
       "      <td>5</td>\n",
       "      <td>1</td>\n",
       "      <td>1</td>\n",
       "      <td>2</td>\n",
       "      <td>...</td>\n",
       "      <td>0</td>\n",
       "      <td>0</td>\n",
       "      <td>1</td>\n",
       "      <td>0</td>\n",
       "      <td>0</td>\n",
       "      <td>1</td>\n",
       "      <td>0</td>\n",
       "      <td>0</td>\n",
       "      <td>0</td>\n",
       "      <td>1</td>\n",
       "    </tr>\n",
       "    <tr>\n",
       "      <th>1</th>\n",
       "      <td>228</td>\n",
       "      <td>42</td>\n",
       "      <td>2000</td>\n",
       "      <td>5000000</td>\n",
       "      <td>0</td>\n",
       "      <td>0</td>\n",
       "      <td>8</td>\n",
       "      <td>1</td>\n",
       "      <td>0</td>\n",
       "      <td>0</td>\n",
       "      <td>...</td>\n",
       "      <td>0</td>\n",
       "      <td>0</td>\n",
       "      <td>0</td>\n",
       "      <td>1</td>\n",
       "      <td>1</td>\n",
       "      <td>0</td>\n",
       "      <td>0</td>\n",
       "      <td>0</td>\n",
       "      <td>0</td>\n",
       "      <td>1</td>\n",
       "    </tr>\n",
       "    <tr>\n",
       "      <th>2</th>\n",
       "      <td>134</td>\n",
       "      <td>29</td>\n",
       "      <td>2000</td>\n",
       "      <td>5000000</td>\n",
       "      <td>35100</td>\n",
       "      <td>0</td>\n",
       "      <td>7</td>\n",
       "      <td>3</td>\n",
       "      <td>2</td>\n",
       "      <td>3</td>\n",
       "      <td>...</td>\n",
       "      <td>0</td>\n",
       "      <td>0</td>\n",
       "      <td>0</td>\n",
       "      <td>0</td>\n",
       "      <td>1</td>\n",
       "      <td>0</td>\n",
       "      <td>0</td>\n",
       "      <td>0</td>\n",
       "      <td>0</td>\n",
       "      <td>1</td>\n",
       "    </tr>\n",
       "    <tr>\n",
       "      <th>3</th>\n",
       "      <td>256</td>\n",
       "      <td>41</td>\n",
       "      <td>2000</td>\n",
       "      <td>6000000</td>\n",
       "      <td>48900</td>\n",
       "      <td>-62400</td>\n",
       "      <td>5</td>\n",
       "      <td>1</td>\n",
       "      <td>1</td>\n",
       "      <td>2</td>\n",
       "      <td>...</td>\n",
       "      <td>0</td>\n",
       "      <td>0</td>\n",
       "      <td>1</td>\n",
       "      <td>0</td>\n",
       "      <td>0</td>\n",
       "      <td>0</td>\n",
       "      <td>0</td>\n",
       "      <td>0</td>\n",
       "      <td>0</td>\n",
       "      <td>1</td>\n",
       "    </tr>\n",
       "    <tr>\n",
       "      <th>4</th>\n",
       "      <td>228</td>\n",
       "      <td>44</td>\n",
       "      <td>1000</td>\n",
       "      <td>6000000</td>\n",
       "      <td>66000</td>\n",
       "      <td>-46000</td>\n",
       "      <td>20</td>\n",
       "      <td>1</td>\n",
       "      <td>0</td>\n",
       "      <td>1</td>\n",
       "      <td>...</td>\n",
       "      <td>0</td>\n",
       "      <td>0</td>\n",
       "      <td>0</td>\n",
       "      <td>1</td>\n",
       "      <td>1</td>\n",
       "      <td>0</td>\n",
       "      <td>0</td>\n",
       "      <td>1</td>\n",
       "      <td>0</td>\n",
       "      <td>0</td>\n",
       "    </tr>\n",
       "  </tbody>\n",
       "</table>\n",
       "<p>5 rows × 107 columns</p>\n",
       "</div>"
      ],
      "text/plain": [
       "   months_as_customer  age  policy_deductable  umbrella_limit  capital-gains  \\\n",
       "0                 328   48               1000               0          53300   \n",
       "1                 228   42               2000         5000000              0   \n",
       "2                 134   29               2000         5000000          35100   \n",
       "3                 256   41               2000         6000000          48900   \n",
       "4                 228   44               1000         6000000          66000   \n",
       "\n",
       "   capital-loss  incident_hour_of_the_day  number_of_vehicles_involved  \\\n",
       "0             0                         5                            1   \n",
       "1             0                         8                            1   \n",
       "2             0                         7                            3   \n",
       "3        -62400                         5                            1   \n",
       "4        -46000                        20                            1   \n",
       "\n",
       "   bodily_injuries  witnesses  ...  incident_date_3/1/2015  \\\n",
       "0                1          2  ...                       0   \n",
       "1                0          0  ...                       0   \n",
       "2                2          3  ...                       0   \n",
       "3                1          2  ...                       0   \n",
       "4                0          1  ...                       0   \n",
       "\n",
       "   incident_type_Parked Car  incident_type_Single Vehicle Collision  \\\n",
       "0                         0                                       1   \n",
       "1                         0                                       0   \n",
       "2                         0                                       0   \n",
       "3                         0                                       1   \n",
       "4                         0                                       0   \n",
       "\n",
       "   incident_type_Vehicle Theft  collision_type_Rear Collision  \\\n",
       "0                            0                              0   \n",
       "1                            1                              1   \n",
       "2                            0                              1   \n",
       "3                            0                              0   \n",
       "4                            1                              1   \n",
       "\n",
       "   collision_type_Side Collision  authorities_contacted_Fire  \\\n",
       "0                              1                           0   \n",
       "1                              0                           0   \n",
       "2                              0                           0   \n",
       "3                              0                           0   \n",
       "4                              0                           0   \n",
       "\n",
       "   authorities_contacted_None  authorities_contacted_Other  \\\n",
       "0                           0                            0   \n",
       "1                           0                            0   \n",
       "2                           0                            0   \n",
       "3                           0                            0   \n",
       "4                           1                            0   \n",
       "\n",
       "   authorities_contacted_Police  \n",
       "0                             1  \n",
       "1                             1  \n",
       "2                             1  \n",
       "3                             1  \n",
       "4                             0  \n",
       "\n",
       "[5 rows x 107 columns]"
      ]
     },
     "execution_count": 27,
     "metadata": {},
     "output_type": "execute_result"
    }
   ],
   "source": [
    "final_df.head()"
   ]
  },
  {
   "cell_type": "markdown",
   "id": "c8a7bf95",
   "metadata": {},
   "source": [
    "## Some Basic Visualisations"
   ]
  },
  {
   "cell_type": "code",
   "execution_count": 29,
   "id": "3cc3e414",
   "metadata": {},
   "outputs": [],
   "source": [
    "import matplotlib.pyplot as plt\n",
    "%matplotlib inline"
   ]
  },
  {
   "cell_type": "code",
   "execution_count": 30,
   "id": "aa34218e",
   "metadata": {},
   "outputs": [
    {
     "data": {
      "text/plain": [
       "(array([349.,   0.,   0., 351.,   0.,   0.,   0.,   0.,   0., 300.]),\n",
       " array([1. , 1.4, 1.8, 2.2, 2.6, 3. , 3.4, 3.8, 4.2, 4.6, 5. ]),\n",
       " <BarContainer object of 10 artists>)"
      ]
     },
     "execution_count": 30,
     "metadata": {},
     "output_type": "execute_result"
    },
    {
     "data": {
      "image/png": "[encoded data removed]",
      "text/plain": [
       "<Figure size 432x288 with 1 Axes>"
      ]
     },
     "metadata": {
      "needs_background": "light"
     },
     "output_type": "display_data"
    }
   ],
   "source": [
    "# looking at the distribution for some columns now\n",
    "plt.hist(final_df['policy_csl'])"
   ]
  },
  {
   "cell_type": "markdown",
   "id": "aa4f8534",
   "metadata": {},
   "source": [
    "* We can see that for almost all categories of CSL the data is uniformally distributed."
   ]
  },
  {
   "cell_type": "code",
   "execution_count": 31,
   "id": "7328429e",
   "metadata": {},
   "outputs": [],
   "source": [
    "import seaborn as sns"
   ]
  },
  {
   "cell_type": "code",
   "execution_count": 32,
   "id": "b1cd5fb5",
   "metadata": {},
   "outputs": [
    {
     "name": "stderr",
     "output_type": "stream",
     "text": [
      "C:\\Users\\Khyati\\anaconda3\\lib\\site-packages\\seaborn\\distributions.py:2619: FutureWarning: `distplot` is a deprecated function and will be removed in a future version. Please adapt your code to use either `displot` (a figure-level function with similar flexibility) or `histplot` (an axes-level function for histograms).\n",
      "  warnings.warn(msg, FutureWarning)\n"
     ]
    },
    {
     "data": {
      "text/plain": [
       "<AxesSubplot:xlabel='insured_sex', ylabel='Density'>"
      ]
     },
     "execution_count": 32,
     "metadata": {},
     "output_type": "execute_result"
    },
    {
     "data": {
      "image/png": "[encoded data removed]",
      "text/plain": [
       "<Figure size 432x288 with 1 Axes>"
      ]
     },
     "metadata": {
      "needs_background": "light"
     },
     "output_type": "display_data"
    }
   ],
   "source": [
    "sns.distplot(final_df['insured_sex'])"
   ]
  },
  {
   "cell_type": "markdown",
   "id": "32a66e8f",
   "metadata": {},
   "source": [
    "* we can see that for almost both the categories of the gender of the insurer the data is uniformally distributed."
   ]
  },
  {
   "cell_type": "code",
   "execution_count": 33,
   "id": "40d1d200",
   "metadata": {},
   "outputs": [
    {
     "name": "stderr",
     "output_type": "stream",
     "text": [
      "C:\\Users\\Khyati\\anaconda3\\lib\\site-packages\\seaborn\\distributions.py:2619: FutureWarning: `distplot` is a deprecated function and will be removed in a future version. Please adapt your code to use either `displot` (a figure-level function with similar flexibility) or `histplot` (an axes-level function for histograms).\n",
      "  warnings.warn(msg, FutureWarning)\n"
     ]
    },
    {
     "data": {
      "text/plain": [
       "<AxesSubplot:xlabel='insured_education_level', ylabel='Density'>"
      ]
     },
     "execution_count": 33,
     "metadata": {},
     "output_type": "execute_result"
    },
    {
     "data": {
      "image/png": "[encoded data removed]",
      "text/plain": [
       "<Figure size 432x288 with 1 Axes>"
      ]
     },
     "metadata": {
      "needs_background": "light"
     },
     "output_type": "display_data"
    }
   ],
   "source": [
    "sns.distplot(final_df['insured_education_level'])"
   ]
  },
  {
   "cell_type": "markdown",
   "id": "1a8fb49e",
   "metadata": {},
   "source": [
    "* we have kind of uniform distribution for all levels of education"
   ]
  },
  {
   "cell_type": "code",
   "execution_count": 34,
   "id": "cebfa8f9",
   "metadata": {},
   "outputs": [
    {
     "name": "stderr",
     "output_type": "stream",
     "text": [
      "C:\\Users\\Khyati\\anaconda3\\lib\\site-packages\\seaborn\\distributions.py:2619: FutureWarning: `distplot` is a deprecated function and will be removed in a future version. Please adapt your code to use either `displot` (a figure-level function with similar flexibility) or `histplot` (an axes-level function for histograms).\n",
      "  warnings.warn(msg, FutureWarning)\n"
     ]
    },
    {
     "data": {
      "text/plain": [
       "<AxesSubplot:xlabel='incident_severity', ylabel='Density'>"
      ]
     },
     "execution_count": 34,
     "metadata": {},
     "output_type": "execute_result"
    },
    {
     "data": {
      "image/png": "[encoded data removed]",
      "text/plain": [
       "<Figure size 432x288 with 1 Axes>"
      ]
     },
     "metadata": {
      "needs_background": "light"
     },
     "output_type": "display_data"
    }
   ],
   "source": [
    "sns.distplot(final_df['incident_severity'])"
   ]
  },
  {
   "cell_type": "markdown",
   "id": "2cd7b553",
   "metadata": {},
   "source": [
    "* We can see that there are least claims for trivial incidents, most claims for minor incidents and almost equal claims for major and total loss.\n"
   ]
  },
  {
   "cell_type": "code",
   "execution_count": 35,
   "id": "e8d85b02",
   "metadata": {},
   "outputs": [
    {
     "name": "stderr",
     "output_type": "stream",
     "text": [
      "C:\\Users\\Khyati\\anaconda3\\lib\\site-packages\\seaborn\\_decorators.py:36: FutureWarning: Pass the following variables as keyword args: x, y. From version 0.12, the only valid positional argument will be `data`, and passing other arguments without an explicit keyword will result in an error or misinterpretation.\n",
      "  warnings.warn(\n"
     ]
    },
    {
     "data": {
      "text/plain": [
       "<AxesSubplot:xlabel='months_as_customer', ylabel='age'>"
      ]
     },
     "execution_count": 35,
     "metadata": {},
     "output_type": "execute_result"
    },
    {
     "data": {
      "image/png": "[encoded data removed]",
      "text/plain": [
       "<Figure size 432x288 with 1 Axes>"
      ]
     },
     "metadata": {
      "needs_background": "light"
     },
     "output_type": "display_data"
    }
   ],
   "source": [
    "sns.scatterplot(final_df['months_as_customer'], final_df['age'], hue = final_df['fraud_reported'])"
   ]
  },
  {
   "cell_type": "markdown",
   "id": "0c4bcb6c",
   "metadata": {},
   "source": [
    "* From the graph it can be concluded that most of the fraud cases are done by the customers that are new to the company and that too comparitively younger ones. If we see that people aged between 20-45 and they are not that long associated with the bank i.e 300 months they have more number of fraudelent claims than rest."
   ]
  },
  {
   "cell_type": "code",
   "execution_count": 36,
   "id": "320891c9",
   "metadata": {},
   "outputs": [
    {
     "name": "stdout",
     "output_type": "stream",
     "text": [
      "months_as_customer             1.000000\n",
      "age                            0.922098\n",
      "incident_hour_of_the_day       0.070639\n",
      "injury_claim                   0.065329\n",
      "total_claim_amount             0.062108\n",
      "vehicle_claim                  0.061013\n",
      "witnesses                      0.058383\n",
      "property_claim                 0.034940\n",
      "policy_deductable              0.026807\n",
      "capital-loss                   0.020209\n",
      "umbrella_limit                 0.015498\n",
      "number_of_vehicles_involved    0.014736\n",
      "capital-gains                  0.006399\n",
      "bodily_injuries               -0.010162\n",
      "Name: months_as_customer, dtype: float64 \n",
      "\n"
     ]
    }
   ],
   "source": [
    "correlation = num_df.corr()\n",
    "print(correlation['months_as_customer'].sort_values(ascending = False),'\\n')"
   ]
  },
  {
   "cell_type": "code",
   "execution_count": 37,
   "id": "84b05b44",
   "metadata": {
    "scrolled": false
   },
   "outputs": [
    {
     "data": {
      "text/plain": [
       "<AxesSubplot:>"
      ]
     },
     "execution_count": 37,
     "metadata": {},
     "output_type": "execute_result"
    },
    {
     "data": {
      "image/png": "[encoded data removed]",
      "text/plain": [
       "<Figure size 936x576 with 2 Axes>"
      ]
     },
     "metadata": {
      "needs_background": "light"
     },
     "output_type": "display_data"
    }
   ],
   "source": [
    "plt.figure(figsize = (13,8))\n",
    "sns.heatmap(num_df.corr(), annot = True)"
   ]
  },
  {
   "cell_type": "code",
   "execution_count": 42,
   "id": "eebe698b",
   "metadata": {},
   "outputs": [
    {
     "data": {
      "text/plain": [
       "247"
      ]
     },
     "execution_count": 42,
     "metadata": {},
     "output_type": "execute_result"
    }
   ],
   "source": [
    "final_df['fraud_reported'].sum()  # imbalance data"
   ]
  },
  {
   "cell_type": "code",
   "execution_count": 43,
   "id": "cdb51927",
   "metadata": {},
   "outputs": [],
   "source": [
    "# seperating the feature and target columns\n",
    "y = final_df['fraud_reported']\n",
    "x = final_df.drop('fraud_reported', axis = 1)  # axis parameter is set to 1 to indicate that we are operating along the columns."
   ]
  },
  {
   "cell_type": "code",
   "execution_count": 44,
   "id": "264d1f4c",
   "metadata": {},
   "outputs": [],
   "source": [
    "x.drop(columns = ['age','total_claim_amount'], inplace = True)"
   ]
  },
  {
   "cell_type": "code",
   "execution_count": 45,
   "id": "3e78a684",
   "metadata": {},
   "outputs": [
    {
     "data": {
      "text/plain": [
       "0    1\n",
       "1    1\n",
       "2    0\n",
       "3    1\n",
       "4    0\n",
       "Name: fraud_reported, dtype: int64"
      ]
     },
     "execution_count": 45,
     "metadata": {},
     "output_type": "execute_result"
    }
   ],
   "source": [
    "y.head()"
   ]
  },
  {
   "cell_type": "markdown",
   "id": "8da05fb7",
   "metadata": {},
   "source": [
    "## Splitting the data for predictions"
   ]
  },
  {
   "cell_type": "code",
   "execution_count": 46,
   "id": "adb2ffda",
   "metadata": {},
   "outputs": [],
   "source": [
    "# splitting the data into training and test set for model training\n",
    "\n",
    "from sklearn.model_selection import train_test_split\n",
    "train_x, test_x, train_y, test_y = train_test_split(x,y,random_state = 355)"
   ]
  },
  {
   "cell_type": "code",
   "execution_count": 47,
   "id": "3117f3dc",
   "metadata": {},
   "outputs": [
    {
     "name": "stdout",
     "output_type": "stream",
     "text": [
      "Requirement already satisfied: scikit-learn in c:\\users\\khyati\\anaconda3\\lib\\site-packages (1.3.0)\n",
      "Requirement already satisfied: xgboost in c:\\users\\khyati\\anaconda3\\lib\\site-packages (1.7.6)\n",
      "Requirement already satisfied: imbalanced-learn in c:\\users\\khyati\\anaconda3\\lib\\site-packages (0.11.0)\n",
      "Requirement already satisfied: threadpoolctl>=2.0.0 in c:\\users\\khyati\\anaconda3\\lib\\site-packages (from scikit-learn) (3.2.0)\n",
      "Requirement already satisfied: joblib>=1.1.1 in c:\\users\\khyati\\anaconda3\\lib\\site-packages (from scikit-learn) (1.3.1)\n",
      "Requirement already satisfied: scipy>=1.5.0 in c:\\users\\khyati\\anaconda3\\lib\\site-packages (from scikit-learn) (1.10.1)\n",
      "Requirement already satisfied: numpy>=1.17.3 in c:\\users\\khyati\\anaconda3\\lib\\site-packages (from scikit-learn) (1.23.5)\n"
     ]
    }
   ],
   "source": [
    "#!pip install imbalanced-learn\n",
    "!pip install --upgrade scikit-learn xgboost imbalanced-learn"
   ]
  },
  {
   "cell_type": "code",
   "execution_count": 48,
   "id": "dbfad82e",
   "metadata": {},
   "outputs": [
    {
     "name": "stdout",
     "output_type": "stream",
     "text": [
      "Requirement already satisfied: scikit-learn in c:\\users\\khyati\\anaconda3\\lib\\site-packages (1.3.0)\n",
      "Requirement already satisfied: threadpoolctl in c:\\users\\khyati\\anaconda3\\lib\\site-packages (3.2.0)\n",
      "Requirement already satisfied: numpy>=1.17.3 in c:\\users\\khyati\\anaconda3\\lib\\site-packages (from scikit-learn) (1.23.5)\n",
      "Requirement already satisfied: joblib>=1.1.1 in c:\\users\\khyati\\anaconda3\\lib\\site-packages (from scikit-learn) (1.3.1)\n",
      "Requirement already satisfied: scipy>=1.5.0 in c:\\users\\khyati\\anaconda3\\lib\\site-packages (from scikit-learn) (1.10.1)\n"
     ]
    }
   ],
   "source": [
    "!pip install --upgrade scikit-learn threadpoolctl\n"
   ]
  },
  {
   "cell_type": "code",
   "execution_count": 49,
   "id": "71bcdee8",
   "metadata": {},
   "outputs": [],
   "source": [
    "from imblearn.over_sampling import SMOTE"
   ]
  },
  {
   "cell_type": "code",
   "execution_count": 50,
   "id": "3e63a230",
   "metadata": {},
   "outputs": [
    {
     "name": "stdout",
     "output_type": "stream",
     "text": [
      "Original class distribution:\n",
      "[571 179]\n",
      "179\n",
      "Resampled class distribution:\n",
      "[571 571]\n",
      "After OverSampling, counts of label '1': 571\n",
      "After OverSampling, counts of label '0': 571\n"
     ]
    }
   ],
   "source": [
    "import numpy as np\n",
    "\n",
    "\n",
    "# Assuming you have your data as numpy arrays or pandas DataFrames, train_x and train_y\n",
    "# train_x contains the feature vectors, and train_y contains the corresponding class labels (0 or 1)\n",
    "\n",
    "# Create an instance of SMOTE\n",
    "sm = SMOTE(random_state=42)\n",
    "\n",
    "# Fit and apply SMOTE on your data\n",
    "train_x_res, train_y_res = sm.fit_resample(train_x, train_y)\n",
    "\n",
    "# Check the new class distribution after oversampling\n",
    "print(\"Original class distribution:\")\n",
    "print(np.bincount(train_y))\n",
    "\n",
    "print(train_y.sum())\n",
    "\n",
    "print(\"Resampled class distribution:\")\n",
    "print(np.bincount(train_y_res))\n",
    "print(\"After OverSampling, counts of label '1': {}\".format(sum(train_y_res == 1)))\n",
    "print(\"After OverSampling, counts of label '0': {}\".format(sum(train_y_res == 0)))"
   ]
  },
  {
   "cell_type": "code",
   "execution_count": 51,
   "id": "341ef95d",
   "metadata": {},
   "outputs": [
    {
     "data": {
      "text/html": [
       "<div>\n",
       "<style scoped>\n",
       "    .dataframe tbody tr th:only-of-type {\n",
       "        vertical-align: middle;\n",
       "    }\n",
       "\n",
       "    .dataframe tbody tr th {\n",
       "        vertical-align: top;\n",
       "    }\n",
       "\n",
       "    .dataframe thead th {\n",
       "        text-align: right;\n",
       "    }\n",
       "</style>\n",
       "<table border=\"1\" class=\"dataframe\">\n",
       "  <thead>\n",
       "    <tr style=\"text-align: right;\">\n",
       "      <th></th>\n",
       "      <th>months_as_customer</th>\n",
       "      <th>policy_deductable</th>\n",
       "      <th>umbrella_limit</th>\n",
       "      <th>capital-gains</th>\n",
       "      <th>capital-loss</th>\n",
       "      <th>incident_hour_of_the_day</th>\n",
       "      <th>number_of_vehicles_involved</th>\n",
       "      <th>bodily_injuries</th>\n",
       "      <th>witnesses</th>\n",
       "      <th>injury_claim</th>\n",
       "      <th>...</th>\n",
       "      <th>incident_date_3/1/2015</th>\n",
       "      <th>incident_type_Parked Car</th>\n",
       "      <th>incident_type_Single Vehicle Collision</th>\n",
       "      <th>incident_type_Vehicle Theft</th>\n",
       "      <th>collision_type_Rear Collision</th>\n",
       "      <th>collision_type_Side Collision</th>\n",
       "      <th>authorities_contacted_Fire</th>\n",
       "      <th>authorities_contacted_None</th>\n",
       "      <th>authorities_contacted_Other</th>\n",
       "      <th>authorities_contacted_Police</th>\n",
       "    </tr>\n",
       "  </thead>\n",
       "  <tbody>\n",
       "    <tr>\n",
       "      <th>0</th>\n",
       "      <td>254</td>\n",
       "      <td>500</td>\n",
       "      <td>0</td>\n",
       "      <td>35700</td>\n",
       "      <td>0</td>\n",
       "      <td>6</td>\n",
       "      <td>3</td>\n",
       "      <td>2</td>\n",
       "      <td>2</td>\n",
       "      <td>13720</td>\n",
       "      <td>...</td>\n",
       "      <td>0</td>\n",
       "      <td>0</td>\n",
       "      <td>0</td>\n",
       "      <td>0</td>\n",
       "      <td>0</td>\n",
       "      <td>0</td>\n",
       "      <td>0</td>\n",
       "      <td>0</td>\n",
       "      <td>0</td>\n",
       "      <td>0</td>\n",
       "    </tr>\n",
       "    <tr>\n",
       "      <th>1</th>\n",
       "      <td>95</td>\n",
       "      <td>1000</td>\n",
       "      <td>0</td>\n",
       "      <td>0</td>\n",
       "      <td>-70300</td>\n",
       "      <td>3</td>\n",
       "      <td>1</td>\n",
       "      <td>1</td>\n",
       "      <td>2</td>\n",
       "      <td>640</td>\n",
       "      <td>...</td>\n",
       "      <td>0</td>\n",
       "      <td>0</td>\n",
       "      <td>0</td>\n",
       "      <td>1</td>\n",
       "      <td>1</td>\n",
       "      <td>0</td>\n",
       "      <td>0</td>\n",
       "      <td>1</td>\n",
       "      <td>0</td>\n",
       "      <td>0</td>\n",
       "    </tr>\n",
       "    <tr>\n",
       "      <th>2</th>\n",
       "      <td>56</td>\n",
       "      <td>500</td>\n",
       "      <td>0</td>\n",
       "      <td>0</td>\n",
       "      <td>-28800</td>\n",
       "      <td>13</td>\n",
       "      <td>1</td>\n",
       "      <td>1</td>\n",
       "      <td>2</td>\n",
       "      <td>0</td>\n",
       "      <td>...</td>\n",
       "      <td>0</td>\n",
       "      <td>0</td>\n",
       "      <td>1</td>\n",
       "      <td>0</td>\n",
       "      <td>1</td>\n",
       "      <td>0</td>\n",
       "      <td>0</td>\n",
       "      <td>0</td>\n",
       "      <td>0</td>\n",
       "      <td>1</td>\n",
       "    </tr>\n",
       "    <tr>\n",
       "      <th>3</th>\n",
       "      <td>322</td>\n",
       "      <td>2000</td>\n",
       "      <td>0</td>\n",
       "      <td>0</td>\n",
       "      <td>-46000</td>\n",
       "      <td>18</td>\n",
       "      <td>1</td>\n",
       "      <td>0</td>\n",
       "      <td>2</td>\n",
       "      <td>7680</td>\n",
       "      <td>...</td>\n",
       "      <td>0</td>\n",
       "      <td>0</td>\n",
       "      <td>1</td>\n",
       "      <td>0</td>\n",
       "      <td>1</td>\n",
       "      <td>0</td>\n",
       "      <td>0</td>\n",
       "      <td>0</td>\n",
       "      <td>0</td>\n",
       "      <td>0</td>\n",
       "    </tr>\n",
       "    <tr>\n",
       "      <th>4</th>\n",
       "      <td>147</td>\n",
       "      <td>1000</td>\n",
       "      <td>6000000</td>\n",
       "      <td>0</td>\n",
       "      <td>-48400</td>\n",
       "      <td>2</td>\n",
       "      <td>2</td>\n",
       "      <td>1</td>\n",
       "      <td>2</td>\n",
       "      <td>9760</td>\n",
       "      <td>...</td>\n",
       "      <td>0</td>\n",
       "      <td>0</td>\n",
       "      <td>0</td>\n",
       "      <td>0</td>\n",
       "      <td>1</td>\n",
       "      <td>0</td>\n",
       "      <td>0</td>\n",
       "      <td>0</td>\n",
       "      <td>1</td>\n",
       "      <td>0</td>\n",
       "    </tr>\n",
       "  </tbody>\n",
       "</table>\n",
       "<p>5 rows × 104 columns</p>\n",
       "</div>"
      ],
      "text/plain": [
       "   months_as_customer  policy_deductable  umbrella_limit  capital-gains  \\\n",
       "0                 254                500               0          35700   \n",
       "1                  95               1000               0              0   \n",
       "2                  56                500               0              0   \n",
       "3                 322               2000               0              0   \n",
       "4                 147               1000         6000000              0   \n",
       "\n",
       "   capital-loss  incident_hour_of_the_day  number_of_vehicles_involved  \\\n",
       "0             0                         6                            3   \n",
       "1        -70300                         3                            1   \n",
       "2        -28800                        13                            1   \n",
       "3        -46000                        18                            1   \n",
       "4        -48400                         2                            2   \n",
       "\n",
       "   bodily_injuries  witnesses  injury_claim  ...  incident_date_3/1/2015  \\\n",
       "0                2          2         13720  ...                       0   \n",
       "1                1          2           640  ...                       0   \n",
       "2                1          2             0  ...                       0   \n",
       "3                0          2          7680  ...                       0   \n",
       "4                1          2          9760  ...                       0   \n",
       "\n",
       "   incident_type_Parked Car  incident_type_Single Vehicle Collision  \\\n",
       "0                         0                                       0   \n",
       "1                         0                                       0   \n",
       "2                         0                                       1   \n",
       "3                         0                                       1   \n",
       "4                         0                                       0   \n",
       "\n",
       "   incident_type_Vehicle Theft  collision_type_Rear Collision  \\\n",
       "0                            0                              0   \n",
       "1                            1                              1   \n",
       "2                            0                              1   \n",
       "3                            0                              1   \n",
       "4                            0                              1   \n",
       "\n",
       "   collision_type_Side Collision  authorities_contacted_Fire  \\\n",
       "0                              0                           0   \n",
       "1                              0                           0   \n",
       "2                              0                           0   \n",
       "3                              0                           0   \n",
       "4                              0                           0   \n",
       "\n",
       "   authorities_contacted_None  authorities_contacted_Other  \\\n",
       "0                           0                            0   \n",
       "1                           1                            0   \n",
       "2                           0                            0   \n",
       "3                           0                            0   \n",
       "4                           0                            1   \n",
       "\n",
       "   authorities_contacted_Police  \n",
       "0                             0  \n",
       "1                             0  \n",
       "2                             1  \n",
       "3                             0  \n",
       "4                             0  \n",
       "\n",
       "[5 rows x 104 columns]"
      ]
     },
     "execution_count": 51,
     "metadata": {},
     "output_type": "execute_result"
    }
   ],
   "source": [
    "train_x_res.head()"
   ]
  },
  {
   "cell_type": "code",
   "execution_count": 54,
   "id": "abc130df",
   "metadata": {},
   "outputs": [],
   "source": [
    "num_df_train = train_x_res[['months_as_customer','policy_deductable','umbrella_limit',\n",
    "                 'capital-gains','capital-loss','incident_hour_of_the_day',\n",
    "                 'number_of_vehicles_involved','bodily_injuries','witnesses',\n",
    "                 'injury_claim','property_claim','vehicle_claim']]\n",
    "num_df_test = test_x[['months_as_customer','policy_deductable','umbrella_limit',\n",
    "                 'capital-gains','capital-loss','incident_hour_of_the_day',\n",
    "                 'number_of_vehicles_involved','bodily_injuries','witnesses',\n",
    "                 'injury_claim','property_claim','vehicle_claim']]"
   ]
  },
  {
   "cell_type": "code",
   "execution_count": 55,
   "id": "07257435",
   "metadata": {},
   "outputs": [
    {
     "data": {
      "text/plain": [
       "Index(['months_as_customer', 'policy_deductable', 'umbrella_limit',\n",
       "       'capital-gains', 'capital-loss', 'incident_hour_of_the_day',\n",
       "       'number_of_vehicles_involved', 'bodily_injuries', 'witnesses',\n",
       "       'injury_claim', 'property_claim', 'vehicle_claim'],\n",
       "      dtype='object')"
      ]
     },
     "execution_count": 55,
     "metadata": {},
     "output_type": "execute_result"
    }
   ],
   "source": [
    "num_df_train.columns"
   ]
  },
  {
   "cell_type": "code",
   "execution_count": 56,
   "id": "392e298e",
   "metadata": {},
   "outputs": [
    {
     "data": {
      "text/html": [
       "<div>\n",
       "<style scoped>\n",
       "    .dataframe tbody tr th:only-of-type {\n",
       "        vertical-align: middle;\n",
       "    }\n",
       "\n",
       "    .dataframe tbody tr th {\n",
       "        vertical-align: top;\n",
       "    }\n",
       "\n",
       "    .dataframe thead th {\n",
       "        text-align: right;\n",
       "    }\n",
       "</style>\n",
       "<table border=\"1\" class=\"dataframe\">\n",
       "  <thead>\n",
       "    <tr style=\"text-align: right;\">\n",
       "      <th></th>\n",
       "      <th>months_as_customer</th>\n",
       "      <th>policy_deductable</th>\n",
       "      <th>umbrella_limit</th>\n",
       "      <th>capital-gains</th>\n",
       "      <th>capital-loss</th>\n",
       "      <th>incident_hour_of_the_day</th>\n",
       "      <th>number_of_vehicles_involved</th>\n",
       "      <th>bodily_injuries</th>\n",
       "      <th>witnesses</th>\n",
       "      <th>injury_claim</th>\n",
       "      <th>property_claim</th>\n",
       "      <th>vehicle_claim</th>\n",
       "    </tr>\n",
       "  </thead>\n",
       "  <tbody>\n",
       "    <tr>\n",
       "      <th>0</th>\n",
       "      <td>254</td>\n",
       "      <td>500</td>\n",
       "      <td>0</td>\n",
       "      <td>35700</td>\n",
       "      <td>0</td>\n",
       "      <td>6</td>\n",
       "      <td>3</td>\n",
       "      <td>2</td>\n",
       "      <td>2</td>\n",
       "      <td>13720</td>\n",
       "      <td>6860</td>\n",
       "      <td>61740</td>\n",
       "    </tr>\n",
       "    <tr>\n",
       "      <th>1</th>\n",
       "      <td>95</td>\n",
       "      <td>1000</td>\n",
       "      <td>0</td>\n",
       "      <td>0</td>\n",
       "      <td>-70300</td>\n",
       "      <td>3</td>\n",
       "      <td>1</td>\n",
       "      <td>1</td>\n",
       "      <td>2</td>\n",
       "      <td>640</td>\n",
       "      <td>320</td>\n",
       "      <td>2240</td>\n",
       "    </tr>\n",
       "    <tr>\n",
       "      <th>2</th>\n",
       "      <td>56</td>\n",
       "      <td>500</td>\n",
       "      <td>0</td>\n",
       "      <td>0</td>\n",
       "      <td>-28800</td>\n",
       "      <td>13</td>\n",
       "      <td>1</td>\n",
       "      <td>1</td>\n",
       "      <td>2</td>\n",
       "      <td>0</td>\n",
       "      <td>6500</td>\n",
       "      <td>52000</td>\n",
       "    </tr>\n",
       "    <tr>\n",
       "      <th>3</th>\n",
       "      <td>322</td>\n",
       "      <td>2000</td>\n",
       "      <td>0</td>\n",
       "      <td>0</td>\n",
       "      <td>-46000</td>\n",
       "      <td>18</td>\n",
       "      <td>1</td>\n",
       "      <td>0</td>\n",
       "      <td>2</td>\n",
       "      <td>7680</td>\n",
       "      <td>7680</td>\n",
       "      <td>26880</td>\n",
       "    </tr>\n",
       "    <tr>\n",
       "      <th>4</th>\n",
       "      <td>147</td>\n",
       "      <td>1000</td>\n",
       "      <td>6000000</td>\n",
       "      <td>0</td>\n",
       "      <td>-48400</td>\n",
       "      <td>2</td>\n",
       "      <td>2</td>\n",
       "      <td>1</td>\n",
       "      <td>2</td>\n",
       "      <td>9760</td>\n",
       "      <td>4880</td>\n",
       "      <td>39040</td>\n",
       "    </tr>\n",
       "  </tbody>\n",
       "</table>\n",
       "</div>"
      ],
      "text/plain": [
       "   months_as_customer  policy_deductable  umbrella_limit  capital-gains  \\\n",
       "0                 254                500               0          35700   \n",
       "1                  95               1000               0              0   \n",
       "2                  56                500               0              0   \n",
       "3                 322               2000               0              0   \n",
       "4                 147               1000         6000000              0   \n",
       "\n",
       "   capital-loss  incident_hour_of_the_day  number_of_vehicles_involved  \\\n",
       "0             0                         6                            3   \n",
       "1        -70300                         3                            1   \n",
       "2        -28800                        13                            1   \n",
       "3        -46000                        18                            1   \n",
       "4        -48400                         2                            2   \n",
       "\n",
       "   bodily_injuries  witnesses  injury_claim  property_claim  vehicle_claim  \n",
       "0                2          2         13720            6860          61740  \n",
       "1                1          2           640             320           2240  \n",
       "2                1          2             0            6500          52000  \n",
       "3                0          2          7680            7680          26880  \n",
       "4                1          2          9760            4880          39040  "
      ]
     },
     "execution_count": 56,
     "metadata": {},
     "output_type": "execute_result"
    }
   ],
   "source": [
    "num_df_train.head()"
   ]
  },
  {
   "cell_type": "code",
   "execution_count": 57,
   "id": "7f302a86",
   "metadata": {},
   "outputs": [
    {
     "name": "stdout",
     "output_type": "stream",
     "text": [
      "(1142, 104)\n",
      "(1142, 12)\n"
     ]
    }
   ],
   "source": [
    "print(train_x_res.shape)\n",
    "print(num_df_train.shape)"
   ]
  },
  {
   "cell_type": "code",
   "execution_count": 58,
   "id": "335e787d",
   "metadata": {},
   "outputs": [],
   "source": [
    "# scaling the numeric values in the dataset\n",
    "    \n",
    "from sklearn.preprocessing import StandardScaler\n",
    "scaler = StandardScaler()"
   ]
  },
  {
   "cell_type": "code",
   "execution_count": 59,
   "id": "30de2491",
   "metadata": {},
   "outputs": [
    {
     "data": {
      "text/plain": [
       "(1142, 12)"
      ]
     },
     "execution_count": 59,
     "metadata": {},
     "output_type": "execute_result"
    }
   ],
   "source": [
    "# we are scaling our data\n",
    "scaled_data_train = scaler.fit_transform(num_df_train)\n",
    "# part which contains only the numerical data\n",
    "scaled_num_df_1 = pd.DataFrame(data = scaled_data_train, columns = num_df_train.columns, index = train_x_res.index)\n",
    "scaled_num_df_1.shape"
   ]
  },
  {
   "cell_type": "code",
   "execution_count": 60,
   "id": "e9438cfc",
   "metadata": {},
   "outputs": [
    {
     "data": {
      "text/plain": [
       "(250, 12)"
      ]
     },
     "execution_count": 60,
     "metadata": {},
     "output_type": "execute_result"
    }
   ],
   "source": [
    "# we are scaling our data\n",
    "scaled_data_test = scaler.fit_transform(num_df_test)\n",
    "# part which contains only the numerical data\n",
    "scaled_num_df_2 = pd.DataFrame(data = scaled_data_test, columns = num_df_test.columns, index = test_x.index)\n",
    "scaled_num_df_2.shape"
   ]
  },
  {
   "cell_type": "code",
   "execution_count": 61,
   "id": "5dac036a",
   "metadata": {},
   "outputs": [
    {
     "data": {
      "text/plain": [
       "months_as_customer             0\n",
       "policy_deductable              0\n",
       "umbrella_limit                 0\n",
       "capital-gains                  0\n",
       "capital-loss                   0\n",
       "incident_hour_of_the_day       0\n",
       "number_of_vehicles_involved    0\n",
       "bodily_injuries                0\n",
       "witnesses                      0\n",
       "injury_claim                   0\n",
       "property_claim                 0\n",
       "vehicle_claim                  0\n",
       "dtype: int64"
      ]
     },
     "execution_count": 61,
     "metadata": {},
     "output_type": "execute_result"
    }
   ],
   "source": [
    "scaled_num_df_1.isna().sum()"
   ]
  },
  {
   "cell_type": "code",
   "execution_count": 62,
   "id": "d173914a",
   "metadata": {},
   "outputs": [
    {
     "data": {
      "text/plain": [
       "months_as_customer             0\n",
       "policy_deductable              0\n",
       "umbrella_limit                 0\n",
       "capital-gains                  0\n",
       "capital-loss                   0\n",
       "incident_hour_of_the_day       0\n",
       "number_of_vehicles_involved    0\n",
       "bodily_injuries                0\n",
       "witnesses                      0\n",
       "injury_claim                   0\n",
       "property_claim                 0\n",
       "vehicle_claim                  0\n",
       "dtype: int64"
      ]
     },
     "execution_count": 62,
     "metadata": {},
     "output_type": "execute_result"
    }
   ],
   "source": [
    "scaled_num_df_2.isna().sum()"
   ]
  },
  {
   "cell_type": "code",
   "execution_count": 63,
   "id": "9ef44e52",
   "metadata": {},
   "outputs": [],
   "source": [
    "train_x_res.drop(columns = scaled_num_df_1.columns,inplace = True) # from the original data we are dropping scaled numerical values"
   ]
  },
  {
   "cell_type": "code",
   "execution_count": 64,
   "id": "e2890cdf",
   "metadata": {},
   "outputs": [],
   "source": [
    "train_x_res = pd.concat([scaled_num_df_1, train_x_res],axis=1) # old categorical values as well as scaled numerical values"
   ]
  },
  {
   "cell_type": "code",
   "execution_count": 65,
   "id": "f70e9ee7",
   "metadata": {},
   "outputs": [],
   "source": [
    "test_x.drop(columns = scaled_num_df_2.columns,inplace = True) # from the original data we are dropping scaled numerical "
   ]
  },
  {
   "cell_type": "markdown",
   "id": "26d0b1bb",
   "metadata": {},
   "source": [
    "## Modeling"
   ]
  },
  {
   "cell_type": "markdown",
   "id": "28b5423d",
   "metadata": {},
   "source": [
    "### 1. Logistic Regression"
   ]
  },
  {
   "cell_type": "code",
   "execution_count": 66,
   "id": "850bb356",
   "metadata": {},
   "outputs": [],
   "source": [
    "test_x = pd.concat([scaled_num_df_2, test_x],axis=1) # old categorical values as well as scaled numerical values"
   ]
  },
  {
   "cell_type": "code",
   "execution_count": 67,
   "id": "ae6a1710",
   "metadata": {},
   "outputs": [],
   "source": [
    "from sklearn.feature_selection import RFE \n",
    "from sklearn.model_selection import cross_val_score\n"
   ]
  },
  {
   "cell_type": "code",
   "execution_count": 68,
   "id": "8636049b",
   "metadata": {},
   "outputs": [
    {
     "data": {
      "image/png": "[encoded data removed]",
      "text/plain": [
       "<Figure size 576x432 with 1 Axes>"
      ]
     },
     "metadata": {
      "needs_background": "light"
     },
     "output_type": "display_data"
    },
    {
     "name": "stdout",
     "output_type": "stream",
     "text": [
      "[0.5560599095993258, 0.5656937102581783, 0.5946180954569831, 0.6174059603156362, 0.636673561633341, 0.6647284149237722, 0.6892706657473378, 0.705044817283383, 0.7225886769325058, 0.7418945836206237, 0.7612043208457827, 0.7743545545085422, 0.7892744962843791, 0.7954186776986134, 0.7954186776986134, 0.7954186776986134, 0.7954186776986134, 0.7962920401440282, 0.797165402589443, 0.798042595571899, 0.7962843790699455, 0.7945299931050332, 0.7927794376771623, 0.7857580632804719, 0.7778633264383666, 0.7804949053857351, 0.78136826783115, 0.7831226537960623, 0.769976250670344, 0.7954263387726959, 0.7954263387726959, 0.789285987895503, 0.789285987895503, 0.7884087949130468, 0.789285987895503, 0.7796368650884854, 0.7805178886079828, 0.7840189994637248, 0.7840189994637248, 0.7831418064812686, 0.7831418064812686, 0.7761242626216196, 0.7892706657473377, 0.7910135601011261, 0.7883819811537578, 0.7892591741362139, 0.7822339692024822, 0.781356776220026, 0.7796100513291964, 0.7796100513291964]\n"
     ]
    }
   ],
   "source": [
    "logreg_model = LogisticRegression(max_iter=3000)\n",
    "\n",
    "# Step 4: Cross-validation to determine the optimal number of features\n",
    "max_features_to_try = 50  # Try up to 20 features\n",
    "accuracy_scores = []\n",
    "\n",
    "for num_features in range(1, max_features_to_try + 1):\n",
    "    rfe = RFE(estimator = logreg_model, n_features_to_select=num_features)\n",
    "    selected_features = rfe.fit_transform(train_x_res, train_y_res)\n",
    "    scores = cross_val_score(logreg_model, selected_features, train_y_res, cv=5)\n",
    "    accuracy_scores.append(scores.mean())\n",
    "\n",
    "# Step 5: Plot the performance (accuracy) against the number of features\n",
    "plt.figure(figsize=(8, 6))\n",
    "plt.plot(range(1, max_features_to_try + 1), accuracy_scores, marker='o')\n",
    "plt.xlabel(\"Number of Features\")\n",
    "plt.ylabel(\"Cross-validated Accuracy\")\n",
    "plt.title(\"Model Performance vs. Number of Features\")\n",
    "plt.grid(True)\n",
    "plt.show()\n",
    "print(accuracy_scores)"
   ]
  },
  {
   "cell_type": "markdown",
   "id": "57bbcca3",
   "metadata": {},
   "source": [
    "we employed Recursive Feature Elimination (RFE) and cross-validation to\n",
    "identify the optimal number of features for a Logistic Regression model. \n",
    "Our analysis revealed that including approximately 15 features led to \n",
    "the highest cross-validated accuracy. "
   ]
  },
  {
   "cell_type": "code",
   "execution_count": 69,
   "id": "aea8d58f",
   "metadata": {},
   "outputs": [
    {
     "name": "stdout",
     "output_type": "stream",
     "text": [
      "Requirement already satisfied: mlxtend in c:\\users\\khyati\\anaconda3\\lib\\site-packages (0.22.0)\n",
      "Requirement already satisfied: scikit-learn>=1.0.2 in c:\\users\\khyati\\anaconda3\\lib\\site-packages (from mlxtend) (1.3.0)\n",
      "Requirement already satisfied: setuptools in c:\\users\\khyati\\anaconda3\\lib\\site-packages (from mlxtend) (61.2.0)\n",
      "Requirement already satisfied: matplotlib>=3.0.0 in c:\\users\\khyati\\anaconda3\\lib\\site-packages (from mlxtend) (3.5.1)\n",
      "Requirement already satisfied: numpy>=1.16.2 in c:\\users\\khyati\\anaconda3\\lib\\site-packages (from mlxtend) (1.23.5)\n",
      "Requirement already satisfied: scipy>=1.2.1 in c:\\users\\khyati\\anaconda3\\lib\\site-packages (from mlxtend) (1.10.1)\n",
      "Requirement already satisfied: joblib>=0.13.2 in c:\\users\\khyati\\anaconda3\\lib\\site-packages (from mlxtend) (1.3.1)\n",
      "Requirement already satisfied: pandas>=0.24.2 in c:\\users\\khyati\\anaconda3\\lib\\site-packages (from mlxtend) (1.4.2)\n",
      "Requirement already satisfied: pillow>=6.2.0 in c:\\users\\khyati\\anaconda3\\lib\\site-packages (from matplotlib>=3.0.0->mlxtend) (9.0.1)\n",
      "Requirement already satisfied: kiwisolver>=1.0.1 in c:\\users\\khyati\\anaconda3\\lib\\site-packages (from matplotlib>=3.0.0->mlxtend) (1.3.2)\n",
      "Requirement already satisfied: pyparsing>=2.2.1 in c:\\users\\khyati\\anaconda3\\lib\\site-packages (from matplotlib>=3.0.0->mlxtend) (3.0.4)\n",
      "Requirement already satisfied: python-dateutil>=2.7 in c:\\users\\khyati\\anaconda3\\lib\\site-packages (from matplotlib>=3.0.0->mlxtend) (2.8.2)\n",
      "Requirement already satisfied: cycler>=0.10 in c:\\users\\khyati\\anaconda3\\lib\\site-packages (from matplotlib>=3.0.0->mlxtend) (0.11.0)\n",
      "Requirement already satisfied: packaging>=20.0 in c:\\users\\khyati\\anaconda3\\lib\\site-packages (from matplotlib>=3.0.0->mlxtend) (21.3)\n",
      "Requirement already satisfied: fonttools>=4.22.0 in c:\\users\\khyati\\anaconda3\\lib\\site-packages (from matplotlib>=3.0.0->mlxtend) (4.25.0)\n",
      "Requirement already satisfied: pytz>=2020.1 in c:\\users\\khyati\\anaconda3\\lib\\site-packages (from pandas>=0.24.2->mlxtend) (2021.3)\n",
      "Requirement already satisfied: six>=1.5 in c:\\users\\khyati\\anaconda3\\lib\\site-packages (from python-dateutil>=2.7->matplotlib>=3.0.0->mlxtend) (1.16.0)\n",
      "Requirement already satisfied: threadpoolctl>=2.0.0 in c:\\users\\khyati\\anaconda3\\lib\\site-packages (from scikit-learn>=1.0.2->mlxtend) (3.2.0)\n"
     ]
    }
   ],
   "source": [
    "!pip install mlxtend"
   ]
  },
  {
   "cell_type": "code",
   "execution_count": 70,
   "id": "9471a055",
   "metadata": {},
   "outputs": [],
   "source": [
    "from sklearn import linear_model\n",
    "from sklearn.metrics import accuracy_score\n",
    "from mlxtend.feature_selection import SequentialFeatureSelector\n",
    "\n",
    "sfs = SequentialFeatureSelector(linear_model.LogisticRegression(),\n",
    "                                k_features = 15,\n",
    "                                forward = True,\n",
    "                                scoring = 'accuracy',\n",
    "                                cv = None)\n",
    "selected_features = sfs.fit(train_x_res, train_y_res)"
   ]
  },
  {
   "cell_type": "code",
   "execution_count": 71,
   "id": "3eb26887",
   "metadata": {},
   "outputs": [
    {
     "name": "stdout",
     "output_type": "stream",
     "text": [
      "[2, 15, 20, 34, 37, 42, 53, 71, 74, 78, 92, 94, 98, 99, 100]\n"
     ]
    }
   ],
   "source": [
    "selected_feature_indices = list(sfs.k_feature_idx_)\n",
    "print(selected_feature_indices)"
   ]
  },
  {
   "cell_type": "code",
   "execution_count": 72,
   "id": "c3e5299b",
   "metadata": {},
   "outputs": [
    {
     "data": {
      "text/html": [
       "<div>\n",
       "<style scoped>\n",
       "    .dataframe tbody tr th:only-of-type {\n",
       "        vertical-align: middle;\n",
       "    }\n",
       "\n",
       "    .dataframe tbody tr th {\n",
       "        vertical-align: top;\n",
       "    }\n",
       "\n",
       "    .dataframe thead th {\n",
       "        text-align: right;\n",
       "    }\n",
       "</style>\n",
       "<table border=\"1\" class=\"dataframe\">\n",
       "  <thead>\n",
       "    <tr style=\"text-align: right;\">\n",
       "      <th></th>\n",
       "      <th>umbrella_limit</th>\n",
       "      <th>incident_severity</th>\n",
       "      <th>insured_occupation_exec-managerial</th>\n",
       "      <th>insured_relationship_unmarried</th>\n",
       "      <th>incident_date_1/11/2015</th>\n",
       "      <th>incident_date_1/16/2015</th>\n",
       "      <th>incident_date_1/26/2015</th>\n",
       "      <th>incident_date_2/14/2015</th>\n",
       "      <th>incident_date_2/17/2015</th>\n",
       "      <th>incident_date_2/20/2015</th>\n",
       "      <th>incident_date_2/8/2015</th>\n",
       "      <th>incident_date_3/1/2015</th>\n",
       "      <th>collision_type_Rear Collision</th>\n",
       "      <th>collision_type_Side Collision</th>\n",
       "      <th>authorities_contacted_Fire</th>\n",
       "    </tr>\n",
       "  </thead>\n",
       "  <tbody>\n",
       "    <tr>\n",
       "      <th>0</th>\n",
       "      <td>-0.503053</td>\n",
       "      <td>2</td>\n",
       "      <td>1</td>\n",
       "      <td>0</td>\n",
       "      <td>0</td>\n",
       "      <td>0</td>\n",
       "      <td>0</td>\n",
       "      <td>0</td>\n",
       "      <td>0</td>\n",
       "      <td>0</td>\n",
       "      <td>0</td>\n",
       "      <td>0</td>\n",
       "      <td>0</td>\n",
       "      <td>0</td>\n",
       "      <td>0</td>\n",
       "    </tr>\n",
       "    <tr>\n",
       "      <th>1</th>\n",
       "      <td>-0.503053</td>\n",
       "      <td>1</td>\n",
       "      <td>0</td>\n",
       "      <td>0</td>\n",
       "      <td>0</td>\n",
       "      <td>0</td>\n",
       "      <td>0</td>\n",
       "      <td>0</td>\n",
       "      <td>0</td>\n",
       "      <td>0</td>\n",
       "      <td>0</td>\n",
       "      <td>0</td>\n",
       "      <td>1</td>\n",
       "      <td>0</td>\n",
       "      <td>0</td>\n",
       "    </tr>\n",
       "    <tr>\n",
       "      <th>2</th>\n",
       "      <td>-0.503053</td>\n",
       "      <td>3</td>\n",
       "      <td>0</td>\n",
       "      <td>0</td>\n",
       "      <td>0</td>\n",
       "      <td>0</td>\n",
       "      <td>0</td>\n",
       "      <td>0</td>\n",
       "      <td>0</td>\n",
       "      <td>0</td>\n",
       "      <td>0</td>\n",
       "      <td>0</td>\n",
       "      <td>1</td>\n",
       "      <td>0</td>\n",
       "      <td>0</td>\n",
       "    </tr>\n",
       "    <tr>\n",
       "      <th>3</th>\n",
       "      <td>-0.503053</td>\n",
       "      <td>3</td>\n",
       "      <td>0</td>\n",
       "      <td>0</td>\n",
       "      <td>0</td>\n",
       "      <td>0</td>\n",
       "      <td>0</td>\n",
       "      <td>0</td>\n",
       "      <td>0</td>\n",
       "      <td>0</td>\n",
       "      <td>0</td>\n",
       "      <td>0</td>\n",
       "      <td>1</td>\n",
       "      <td>0</td>\n",
       "      <td>0</td>\n",
       "    </tr>\n",
       "    <tr>\n",
       "      <th>4</th>\n",
       "      <td>2.026385</td>\n",
       "      <td>4</td>\n",
       "      <td>0</td>\n",
       "      <td>0</td>\n",
       "      <td>0</td>\n",
       "      <td>0</td>\n",
       "      <td>0</td>\n",
       "      <td>0</td>\n",
       "      <td>0</td>\n",
       "      <td>0</td>\n",
       "      <td>0</td>\n",
       "      <td>0</td>\n",
       "      <td>1</td>\n",
       "      <td>0</td>\n",
       "      <td>0</td>\n",
       "    </tr>\n",
       "    <tr>\n",
       "      <th>...</th>\n",
       "      <td>...</td>\n",
       "      <td>...</td>\n",
       "      <td>...</td>\n",
       "      <td>...</td>\n",
       "      <td>...</td>\n",
       "      <td>...</td>\n",
       "      <td>...</td>\n",
       "      <td>...</td>\n",
       "      <td>...</td>\n",
       "      <td>...</td>\n",
       "      <td>...</td>\n",
       "      <td>...</td>\n",
       "      <td>...</td>\n",
       "      <td>...</td>\n",
       "      <td>...</td>\n",
       "    </tr>\n",
       "    <tr>\n",
       "      <th>1137</th>\n",
       "      <td>-0.503053</td>\n",
       "      <td>3</td>\n",
       "      <td>0</td>\n",
       "      <td>0</td>\n",
       "      <td>0</td>\n",
       "      <td>0</td>\n",
       "      <td>0</td>\n",
       "      <td>0</td>\n",
       "      <td>0</td>\n",
       "      <td>0</td>\n",
       "      <td>0</td>\n",
       "      <td>0</td>\n",
       "      <td>0</td>\n",
       "      <td>0</td>\n",
       "      <td>0</td>\n",
       "    </tr>\n",
       "    <tr>\n",
       "      <th>1138</th>\n",
       "      <td>2.447959</td>\n",
       "      <td>3</td>\n",
       "      <td>0</td>\n",
       "      <td>0</td>\n",
       "      <td>0</td>\n",
       "      <td>0</td>\n",
       "      <td>0</td>\n",
       "      <td>0</td>\n",
       "      <td>0</td>\n",
       "      <td>0</td>\n",
       "      <td>0</td>\n",
       "      <td>0</td>\n",
       "      <td>0</td>\n",
       "      <td>0</td>\n",
       "      <td>0</td>\n",
       "    </tr>\n",
       "    <tr>\n",
       "      <th>1139</th>\n",
       "      <td>1.604812</td>\n",
       "      <td>3</td>\n",
       "      <td>0</td>\n",
       "      <td>0</td>\n",
       "      <td>0</td>\n",
       "      <td>0</td>\n",
       "      <td>0</td>\n",
       "      <td>0</td>\n",
       "      <td>0</td>\n",
       "      <td>0</td>\n",
       "      <td>0</td>\n",
       "      <td>0</td>\n",
       "      <td>1</td>\n",
       "      <td>0</td>\n",
       "      <td>0</td>\n",
       "    </tr>\n",
       "    <tr>\n",
       "      <th>1140</th>\n",
       "      <td>-0.503053</td>\n",
       "      <td>2</td>\n",
       "      <td>0</td>\n",
       "      <td>0</td>\n",
       "      <td>0</td>\n",
       "      <td>0</td>\n",
       "      <td>0</td>\n",
       "      <td>0</td>\n",
       "      <td>0</td>\n",
       "      <td>0</td>\n",
       "      <td>0</td>\n",
       "      <td>0</td>\n",
       "      <td>0</td>\n",
       "      <td>1</td>\n",
       "      <td>0</td>\n",
       "    </tr>\n",
       "    <tr>\n",
       "      <th>1141</th>\n",
       "      <td>-0.503053</td>\n",
       "      <td>3</td>\n",
       "      <td>0</td>\n",
       "      <td>0</td>\n",
       "      <td>0</td>\n",
       "      <td>0</td>\n",
       "      <td>0</td>\n",
       "      <td>0</td>\n",
       "      <td>0</td>\n",
       "      <td>0</td>\n",
       "      <td>0</td>\n",
       "      <td>0</td>\n",
       "      <td>0</td>\n",
       "      <td>0</td>\n",
       "      <td>0</td>\n",
       "    </tr>\n",
       "  </tbody>\n",
       "</table>\n",
       "<p>1142 rows × 15 columns</p>\n",
       "</div>"
      ],
      "text/plain": [
       "      umbrella_limit  incident_severity  insured_occupation_exec-managerial  \\\n",
       "0          -0.503053                  2                                   1   \n",
       "1          -0.503053                  1                                   0   \n",
       "2          -0.503053                  3                                   0   \n",
       "3          -0.503053                  3                                   0   \n",
       "4           2.026385                  4                                   0   \n",
       "...              ...                ...                                 ...   \n",
       "1137       -0.503053                  3                                   0   \n",
       "1138        2.447959                  3                                   0   \n",
       "1139        1.604812                  3                                   0   \n",
       "1140       -0.503053                  2                                   0   \n",
       "1141       -0.503053                  3                                   0   \n",
       "\n",
       "      insured_relationship_unmarried  incident_date_1/11/2015  \\\n",
       "0                                  0                        0   \n",
       "1                                  0                        0   \n",
       "2                                  0                        0   \n",
       "3                                  0                        0   \n",
       "4                                  0                        0   \n",
       "...                              ...                      ...   \n",
       "1137                               0                        0   \n",
       "1138                               0                        0   \n",
       "1139                               0                        0   \n",
       "1140                               0                        0   \n",
       "1141                               0                        0   \n",
       "\n",
       "      incident_date_1/16/2015  incident_date_1/26/2015  \\\n",
       "0                           0                        0   \n",
       "1                           0                        0   \n",
       "2                           0                        0   \n",
       "3                           0                        0   \n",
       "4                           0                        0   \n",
       "...                       ...                      ...   \n",
       "1137                        0                        0   \n",
       "1138                        0                        0   \n",
       "1139                        0                        0   \n",
       "1140                        0                        0   \n",
       "1141                        0                        0   \n",
       "\n",
       "      incident_date_2/14/2015  incident_date_2/17/2015  \\\n",
       "0                           0                        0   \n",
       "1                           0                        0   \n",
       "2                           0                        0   \n",
       "3                           0                        0   \n",
       "4                           0                        0   \n",
       "...                       ...                      ...   \n",
       "1137                        0                        0   \n",
       "1138                        0                        0   \n",
       "1139                        0                        0   \n",
       "1140                        0                        0   \n",
       "1141                        0                        0   \n",
       "\n",
       "      incident_date_2/20/2015  incident_date_2/8/2015  incident_date_3/1/2015  \\\n",
       "0                           0                       0                       0   \n",
       "1                           0                       0                       0   \n",
       "2                           0                       0                       0   \n",
       "3                           0                       0                       0   \n",
       "4                           0                       0                       0   \n",
       "...                       ...                     ...                     ...   \n",
       "1137                        0                       0                       0   \n",
       "1138                        0                       0                       0   \n",
       "1139                        0                       0                       0   \n",
       "1140                        0                       0                       0   \n",
       "1141                        0                       0                       0   \n",
       "\n",
       "      collision_type_Rear Collision  collision_type_Side Collision  \\\n",
       "0                                 0                              0   \n",
       "1                                 1                              0   \n",
       "2                                 1                              0   \n",
       "3                                 1                              0   \n",
       "4                                 1                              0   \n",
       "...                             ...                            ...   \n",
       "1137                              0                              0   \n",
       "1138                              0                              0   \n",
       "1139                              1                              0   \n",
       "1140                              0                              1   \n",
       "1141                              0                              0   \n",
       "\n",
       "      authorities_contacted_Fire  \n",
       "0                              0  \n",
       "1                              0  \n",
       "2                              0  \n",
       "3                              0  \n",
       "4                              0  \n",
       "...                          ...  \n",
       "1137                           0  \n",
       "1138                           0  \n",
       "1139                           0  \n",
       "1140                           0  \n",
       "1141                           0  \n",
       "\n",
       "[1142 rows x 15 columns]"
      ]
     },
     "execution_count": 72,
     "metadata": {},
     "output_type": "execute_result"
    }
   ],
   "source": [
    "train_x_res.iloc[:,selected_feature_indices]"
   ]
  },
  {
   "cell_type": "code",
   "execution_count": 78,
   "id": "aaefed25",
   "metadata": {},
   "outputs": [
    {
     "name": "stdout",
     "output_type": "stream",
     "text": [
      "Logistic Regression accuracy: 0.624\n",
      "\n",
      "\n",
      "Classification Report:\n",
      "              precision    recall  f1-score   support\n",
      "\n",
      "           0       0.75      0.74      0.74       186\n",
      "           1       0.28      0.30      0.29        64\n",
      "\n",
      "    accuracy                           0.62       250\n",
      "   macro avg       0.52      0.52      0.52       250\n",
      "weighted avg       0.63      0.62      0.63       250\n",
      "\n",
      "\n",
      "\n",
      "Confusion matrix:\n",
      "[[137  49]\n",
      " [ 45  19]]\n"
     ]
    }
   ],
   "source": [
    "# LOGISTIC REGRESSION\n",
    "from sklearn.metrics import confusion_matrix\n",
    "\n",
    "from sklearn.linear_model import LogisticRegression\n",
    "classifier = LogisticRegression()  # As logistic regression basically does classification\n",
    "#from sklearn.model_selection import GridSearchCV\n",
    "#parameter = {'penalty': ['l1','l2','elasticnet'],'C':[0.5,1,2,10,20],'max_iter':[2000]}\n",
    "#classifier_regressor = GridSearchCV(classifier, param_grid = parameter, scoring = 'accuracy', cv = 5)\n",
    "#classifier_regressor.fit(train_x_res,train_y_res)\n",
    "\n",
    "classifier.fit(train_x_res.iloc[:,selected_feature_indices],train_y_res)\n",
    "\n",
    "#print(classifier_regressor.best_params_)\n",
    "#print(classifier_regressor.best_score_) # 73% accuracy\n",
    "## prediction \n",
    "#pred_y = classifier_regressor.predict(test_x)\n",
    "\n",
    "log_pred_y = classifier.predict(test_x.iloc[:,selected_feature_indices])\n",
    "\n",
    "## accuracy score based on test data\n",
    "from sklearn.metrics import accuracy_score, classification_report\n",
    "score = accuracy_score(log_pred_y, test_y)\n",
    "print(\"Logistic Regression accuracy:\",score)\n",
    "print(\"\\n\")\n",
    "print(\"Classification Report:\")\n",
    "print(classification_report(log_pred_y, test_y))\n",
    "print(\"\\n\")\n",
    "print(\"Confusion matrix:\")\n",
    "print(confusion_matrix(log_pred_y, test_y))\n",
    "\n"
   ]
  },
  {
   "cell_type": "code",
   "execution_count": 79,
   "id": "25ed0c72",
   "metadata": {},
   "outputs": [
    {
     "name": "stdout",
     "output_type": "stream",
     "text": [
      "[1 1 0 0 0 0 0 0 0 0 0 0 0 1 0 1 0 1 0 0 0 0 0 1 0 0 0 0 0 1 0 0 1 0 0 0 1\n",
      " 0 1 0 0 0 0 0 0 0 0 0 0 0 0 0 1 0 1 1 0 0 0 1 0 0 0 0 0 1 0 0 0 0 0 0 0 0\n",
      " 0 0 0 1 1 1 0 1 0 1 0 0 1 0 0 1 1 1 1 0 0 0 0 0 0 1 0 0 1 0 1 0 0 0 0 0 0\n",
      " 0 0 0 0 0 0 1 0 0 0 0 0 1 1 1 1 0 0 0 0 0 1 1 0 0 0 0 0 0 0 0 1 0 0 1 0 0\n",
      " 0 0 0 0 0 1 0 1 0 0 0 0 0 0 0 0 1 0 0 0 0 0 0 0 0 0 1 0 0 1 1 1 0 0 0 0 1\n",
      " 1 1 0 0 1 0 0 0 0 0 0 1 0 0 0 1 0 0 0 0 0 1 0 0 0 0 0 0 0 0 0 1 0 0 0 0 0\n",
      " 1 0 0 0 0 1 0 1 0 0 1 0 1 1 0 1 0 0 1 0 0 0 0 1 1 0 1 1]\n"
     ]
    }
   ],
   "source": [
    "print(log_pred_y)"
   ]
  },
  {
   "cell_type": "markdown",
   "id": "5ca2d5b2",
   "metadata": {},
   "source": [
    "### 2. Decision Tree"
   ]
  },
  {
   "cell_type": "code",
   "execution_count": 80,
   "id": "84162941",
   "metadata": {},
   "outputs": [],
   "source": [
    "# Decision Tree using Pre-pruning\n",
    "\n",
    "from sklearn.tree import DecisionTreeClassifier"
   ]
  },
  {
   "cell_type": "code",
   "execution_count": 81,
   "id": "ab163352",
   "metadata": {},
   "outputs": [],
   "source": [
    "# Prepruning \n",
    "parameter = {'criterion':['gini','entropy','log_loss'],\n",
    "            'splitter':['best','random'],\n",
    "            'max_depth':[3,4,5,6,8,10,12,15],\n",
    "            'max_features':['auto','sqrt','log2']}\n",
    "            #'min_samples_leaf':[1,2,3,4,5],\n",
    "            #'min_weight_fraction_leaf':[0.1,0.2,0.3,0.4],\n",
    "            #'max_leaf_nodes':[None,10,20,30,40,50,60,70]}"
   ]
  },
  {
   "cell_type": "code",
   "execution_count": 82,
   "id": "30c22277",
   "metadata": {},
   "outputs": [],
   "source": [
    "from sklearn.model_selection import GridSearchCV\n",
    "\n",
    "treemodel = DecisionTreeClassifier(max_depth = 4 , random_state = 42)\n",
    "cv = GridSearchCV(treemodel, param_grid = parameter, cv = 5, scoring = 'accuracy')"
   ]
  },
  {
   "cell_type": "code",
   "execution_count": 83,
   "id": "9de89686",
   "metadata": {},
   "outputs": [
    {
     "name": "stdout",
     "output_type": "stream",
     "text": [
      "{'criterion': 'gini', 'max_depth': 15, 'max_features': 'sqrt', 'splitter': 'best'}\n",
      "0.7908373553972267\n"
     ]
    },
    {
     "name": "stderr",
     "output_type": "stream",
     "text": [
      "C:\\Users\\Khyati\\anaconda3\\lib\\site-packages\\sklearn\\model_selection\\_validation.py:425: FitFailedWarning: \n",
      "240 fits failed out of a total of 720.\n",
      "The score on these train-test partitions for these parameters will be set to nan.\n",
      "If these failures are not expected, you can try to debug them by setting error_score='raise'.\n",
      "\n",
      "Below are more details about the failures:\n",
      "--------------------------------------------------------------------------------\n",
      "240 fits failed with the following error:\n",
      "Traceback (most recent call last):\n",
      "  File \"C:\\Users\\Khyati\\anaconda3\\lib\\site-packages\\sklearn\\model_selection\\_validation.py\", line 732, in _fit_and_score\n",
      "    estimator.fit(X_train, y_train, **fit_params)\n",
      "  File \"C:\\Users\\Khyati\\anaconda3\\lib\\site-packages\\sklearn\\base.py\", line 1144, in wrapper\n",
      "    estimator._validate_params()\n",
      "  File \"C:\\Users\\Khyati\\anaconda3\\lib\\site-packages\\sklearn\\base.py\", line 637, in _validate_params\n",
      "    validate_parameter_constraints(\n",
      "  File \"C:\\Users\\Khyati\\anaconda3\\lib\\site-packages\\sklearn\\utils\\_param_validation.py\", line 95, in validate_parameter_constraints\n",
      "    raise InvalidParameterError(\n",
      "sklearn.utils._param_validation.InvalidParameterError: The 'max_features' parameter of DecisionTreeClassifier must be an int in the range [1, inf), a float in the range (0.0, 1.0], a str among {'sqrt', 'log2'} or None. Got 'auto' instead.\n",
      "\n",
      "  warnings.warn(some_fits_failed_message, FitFailedWarning)\n",
      "C:\\Users\\Khyati\\anaconda3\\lib\\site-packages\\sklearn\\model_selection\\_search.py:976: UserWarning: One or more of the test scores are non-finite: [       nan        nan 0.66476289 0.63850073 0.66476289 0.63850073\n",
      "        nan        nan 0.69539186 0.70674175 0.69539186 0.70674175\n",
      "        nan        nan 0.70502566 0.6962614  0.70502566 0.6962614\n",
      "        nan        nan 0.77860262 0.69981613 0.77860262 0.69981613\n",
      "        nan        nan 0.72869455 0.72257335 0.72869455 0.72257335\n",
      "        nan        nan 0.77598253 0.73743967 0.77598253 0.73743967\n",
      "        nan        nan 0.78820578 0.7584923  0.78820578 0.7584923\n",
      "        nan        nan 0.79083736 0.78474297 0.79083736 0.78474297\n",
      "        nan        nan 0.66476289 0.63850073 0.66476289 0.63850073\n",
      "        nan        nan 0.69714625 0.70674175 0.69714625 0.70674175\n",
      "        nan        nan 0.69978549 0.6962614  0.69978549 0.6962614\n",
      "        nan        nan 0.78035318 0.70157052 0.78035318 0.70157052\n",
      "        nan        nan 0.72781736 0.72257335 0.72781736 0.72257335\n",
      "        nan        nan 0.76898797 0.74270283 0.76898797 0.74270283\n",
      "        nan        nan 0.7882211  0.75761511 0.7882211  0.75761511\n",
      "        nan        nan 0.7873554  0.78562016 0.7873554  0.78562016\n",
      "        nan        nan 0.66476289 0.63850073 0.66476289 0.63850073\n",
      "        nan        nan 0.69714625 0.70674175 0.69714625 0.70674175\n",
      "        nan        nan 0.69978549 0.6962614  0.69978549 0.6962614\n",
      "        nan        nan 0.78035318 0.70157052 0.78035318 0.70157052\n",
      "        nan        nan 0.72781736 0.72257335 0.72781736 0.72257335\n",
      "        nan        nan 0.76898797 0.74270283 0.76898797 0.74270283\n",
      "        nan        nan 0.7882211  0.75761511 0.7882211  0.75761511\n",
      "        nan        nan 0.7873554  0.78562016 0.7873554  0.78562016]\n",
      "  warnings.warn(\n"
     ]
    }
   ],
   "source": [
    "cv.fit(train_x_res.iloc[:,selected_feature_indices],train_y_res)\n",
    "print(cv.best_params_)\n",
    "print(cv.best_score_)"
   ]
  },
  {
   "cell_type": "code",
   "execution_count": 87,
   "id": "f8d343ef",
   "metadata": {},
   "outputs": [
    {
     "name": "stdout",
     "output_type": "stream",
     "text": [
      "Decision Tree Classifier Accuracy: 0.708\n",
      "\n",
      "\n",
      "Confusion Matrix:\n",
      "[[135  26]\n",
      " [ 47  42]]\n",
      "\n",
      "\n",
      "Predicted Probabilities:\n",
      "[1 0 0 1 0 0 1 1 1 0 1 0 0 0 0 1 0 1 0 1 0 0 0 0 0 0 1 1 0 0 0 0 1 0 0 0 1\n",
      " 0 1 0 0 1 0 0 0 1 0 1 0 1 0 0 0 1 1 0 1 0 0 1 1 0 0 0 1 0 0 1 0 0 1 0 0 0\n",
      " 1 0 0 1 1 0 0 1 0 0 0 0 1 0 0 1 1 1 0 0 0 0 0 0 0 0 0 0 1 0 1 0 1 0 0 0 1\n",
      " 0 1 1 0 0 0 1 1 1 0 0 1 1 0 0 0 0 0 0 0 1 1 1 0 0 0 0 0 0 0 1 0 0 0 0 0 1\n",
      " 1 0 1 0 0 0 0 0 0 0 0 0 0 0 1 0 0 0 1 0 0 0 1 1 0 1 0 1 0 1 0 1 1 0 0 0 1\n",
      " 1 1 1 1 1 0 1 0 0 0 1 0 0 0 0 1 0 0 0 0 0 1 0 0 0 0 0 0 1 0 0 1 1 1 0 1 0\n",
      " 0 1 0 0 1 0 0 0 0 0 0 0 1 1 1 1 0 1 1 0 0 0 0 1 1 1 1 1]\n",
      "\n",
      "\n",
      "Classification Report:\n",
      "              precision    recall  f1-score   support\n",
      "\n",
      "           0       0.74      0.84      0.79       161\n",
      "           1       0.62      0.47      0.54        89\n",
      "\n",
      "    accuracy                           0.71       250\n",
      "   macro avg       0.68      0.66      0.66       250\n",
      "weighted avg       0.70      0.71      0.70       250\n",
      "\n"
     ]
    }
   ],
   "source": [
    "from sklearn.metrics import accuracy_score, classification_report\n",
    "\n",
    "DT_y_pred = cv.predict(test_x.iloc[:,selected_feature_indices])\n",
    "score = accuracy_score(DT_y_pred,test_y)\n",
    "print(\"Decision Tree Classifier Accuracy:\",score)\n",
    "print(\"\\n\")\n",
    "print(\"Confusion Matrix:\")\n",
    "print(confusion_matrix(DT_y_pred, test_y))\n",
    "print(\"\\n\")\n",
    "print(\"Predicted Probabilities:\")\n",
    "print(DT_y_pred)\n",
    "print(\"\\n\")\n",
    "print(\"Classification Report:\")\n",
    "print(classification_report(DT_y_pred,test_y))"
   ]
  },
  {
   "cell_type": "markdown",
   "id": "d376df9c",
   "metadata": {},
   "source": [
    "### 3. Random Forest"
   ]
  },
  {
   "cell_type": "code",
   "execution_count": 88,
   "id": "0aca28e7",
   "metadata": {},
   "outputs": [],
   "source": [
    "from sklearn.ensemble import RandomForestClassifier\n",
    "    "
   ]
  },
  {
   "cell_type": "code",
   "execution_count": 89,
   "id": "dc15e345",
   "metadata": {},
   "outputs": [],
   "source": [
    "parameter = {'criterion':['gini','entropy','log_loss'],\n",
    "             'max_depth':[3,4,5,6,8,10,12,15],\n",
    "             'min_samples_split' : [2,5,10,12,15,20,30],\n",
    "            'n_estimators':[50,100],\n",
    "             }"
   ]
  },
  {
   "cell_type": "code",
   "execution_count": 90,
   "id": "088ab101",
   "metadata": {},
   "outputs": [],
   "source": [
    "#from sklearn.model_selection import GridSearchCV\n",
    "\n",
    "RFC = RandomForestClassifier(random_state = 2)\n",
    "cv1 = GridSearchCV(RFC, param_grid = parameter, cv = 5, scoring = 'accuracy')"
   ]
  },
  {
   "cell_type": "code",
   "execution_count": 92,
   "id": "9bafe730",
   "metadata": {},
   "outputs": [
    {
     "data": {
      "text/html": [
       "<style>#sk-container-id-1 {color: black;}#sk-container-id-1 pre{padding: 0;}#sk-container-id-1 div.sk-toggleable {background-color: white;}#sk-container-id-1 label.sk-toggleable__label {cursor: pointer;display: block;width: 100%;margin-bottom: 0;padding: 0.3em;box-sizing: border-box;text-align: center;}#sk-container-id-1 label.sk-toggleable__label-arrow:before {content: \"▸\";float: left;margin-right: 0.25em;color: #696969;}#sk-container-id-1 label.sk-toggleable__label-arrow:hover:before {color: black;}#sk-container-id-1 div.sk-estimator:hover label.sk-toggleable__label-arrow:before {color: black;}#sk-container-id-1 div.sk-toggleable__content {max-height: 0;max-width: 0;overflow: hidden;text-align: left;background-color: #f0f8ff;}#sk-container-id-1 div.sk-toggleable__content pre {margin: 0.2em;color: black;border-radius: 0.25em;background-color: #f0f8ff;}#sk-container-id-1 input.sk-toggleable__control:checked~div.sk-toggleable__content {max-height: 200px;max-width: 100%;overflow: auto;}#sk-container-id-1 input.sk-toggleable__control:checked~label.sk-toggleable__label-arrow:before {content: \"▾\";}#sk-container-id-1 div.sk-estimator input.sk-toggleable__control:checked~label.sk-toggleable__label {background-color: #d4ebff;}#sk-container-id-1 div.sk-label input.sk-toggleable__control:checked~label.sk-toggleable__label {background-color: #d4ebff;}#sk-container-id-1 input.sk-hidden--visually {border: 0;clip: rect(1px 1px 1px 1px);clip: rect(1px, 1px, 1px, 1px);height: 1px;margin: -1px;overflow: hidden;padding: 0;position: absolute;width: 1px;}#sk-container-id-1 div.sk-estimator {font-family: monospace;background-color: #f0f8ff;border: 1px dotted black;border-radius: 0.25em;box-sizing: border-box;margin-bottom: 0.5em;}#sk-container-id-1 div.sk-estimator:hover {background-color: #d4ebff;}#sk-container-id-1 div.sk-parallel-item::after {content: \"\";width: 100%;border-bottom: 1px solid gray;flex-grow: 1;}#sk-container-id-1 div.sk-label:hover label.sk-toggleable__label {background-color: #d4ebff;}#sk-container-id-1 div.sk-serial::before {content: \"\";position: absolute;border-left: 1px solid gray;box-sizing: border-box;top: 0;bottom: 0;left: 50%;z-index: 0;}#sk-container-id-1 div.sk-serial {display: flex;flex-direction: column;align-items: center;background-color: white;padding-right: 0.2em;padding-left: 0.2em;position: relative;}#sk-container-id-1 div.sk-item {position: relative;z-index: 1;}#sk-container-id-1 div.sk-parallel {display: flex;align-items: stretch;justify-content: center;background-color: white;position: relative;}#sk-container-id-1 div.sk-item::before, #sk-container-id-1 div.sk-parallel-item::before {content: \"\";position: absolute;border-left: 1px solid gray;box-sizing: border-box;top: 0;bottom: 0;left: 50%;z-index: -1;}#sk-container-id-1 div.sk-parallel-item {display: flex;flex-direction: column;z-index: 1;position: relative;background-color: white;}#sk-container-id-1 div.sk-parallel-item:first-child::after {align-self: flex-end;width: 50%;}#sk-container-id-1 div.sk-parallel-item:last-child::after {align-self: flex-start;width: 50%;}#sk-container-id-1 div.sk-parallel-item:only-child::after {width: 0;}#sk-container-id-1 div.sk-dashed-wrapped {border: 1px dashed gray;margin: 0 0.4em 0.5em 0.4em;box-sizing: border-box;padding-bottom: 0.4em;background-color: white;}#sk-container-id-1 div.sk-label label {font-family: monospace;font-weight: bold;display: inline-block;line-height: 1.2em;}#sk-container-id-1 div.sk-label-container {text-align: center;}#sk-container-id-1 div.sk-container {/* jupyter's `normalize.less` sets `[hidden] { display: none; }` but bootstrap.min.css set `[hidden] { display: none !important; }` so we also need the `!important` here to be able to override the default hidden behavior on the sphinx rendered scikit-learn.org. See: https://github.com/scikit-learn/scikit-learn/issues/21755 */display: inline-block !important;position: relative;}#sk-container-id-1 div.sk-text-repr-fallback {display: none;}</style><div id=\"sk-container-id-1\" class=\"sk-top-container\"><div class=\"sk-text-repr-fallback\"><pre>GridSearchCV(cv=5, estimator=RandomForestClassifier(random_state=2),\n",
       "             param_grid={&#x27;criterion&#x27;: [&#x27;gini&#x27;, &#x27;entropy&#x27;, &#x27;log_loss&#x27;],\n",
       "                         &#x27;max_depth&#x27;: [3, 4, 5, 6, 8, 10, 12, 15],\n",
       "                         &#x27;min_samples_split&#x27;: [2, 5, 10, 12, 15, 20, 30],\n",
       "                         &#x27;n_estimators&#x27;: [50, 100]},\n",
       "             scoring=&#x27;accuracy&#x27;)</pre><b>In a Jupyter environment, please rerun this cell to show the HTML representation or trust the notebook. <br />On GitHub, the HTML representation is unable to render, please try loading this page with nbviewer.org.</b></div><div class=\"sk-container\" hidden><div class=\"sk-item sk-dashed-wrapped\"><div class=\"sk-label-container\"><div class=\"sk-label sk-toggleable\"><input class=\"sk-toggleable__control sk-hidden--visually\" id=\"sk-estimator-id-1\" type=\"checkbox\" ><label for=\"sk-estimator-id-1\" class=\"sk-toggleable__label sk-toggleable__label-arrow\">GridSearchCV</label><div class=\"sk-toggleable__content\"><pre>GridSearchCV(cv=5, estimator=RandomForestClassifier(random_state=2),\n",
       "             param_grid={&#x27;criterion&#x27;: [&#x27;gini&#x27;, &#x27;entropy&#x27;, &#x27;log_loss&#x27;],\n",
       "                         &#x27;max_depth&#x27;: [3, 4, 5, 6, 8, 10, 12, 15],\n",
       "                         &#x27;min_samples_split&#x27;: [2, 5, 10, 12, 15, 20, 30],\n",
       "                         &#x27;n_estimators&#x27;: [50, 100]},\n",
       "             scoring=&#x27;accuracy&#x27;)</pre></div></div></div><div class=\"sk-parallel\"><div class=\"sk-parallel-item\"><div class=\"sk-item\"><div class=\"sk-label-container\"><div class=\"sk-label sk-toggleable\"><input class=\"sk-toggleable__control sk-hidden--visually\" id=\"sk-estimator-id-2\" type=\"checkbox\" ><label for=\"sk-estimator-id-2\" class=\"sk-toggleable__label sk-toggleable__label-arrow\">estimator: RandomForestClassifier</label><div class=\"sk-toggleable__content\"><pre>RandomForestClassifier(random_state=2)</pre></div></div></div><div class=\"sk-serial\"><div class=\"sk-item\"><div class=\"sk-estimator sk-toggleable\"><input class=\"sk-toggleable__control sk-hidden--visually\" id=\"sk-estimator-id-3\" type=\"checkbox\" ><label for=\"sk-estimator-id-3\" class=\"sk-toggleable__label sk-toggleable__label-arrow\">RandomForestClassifier</label><div class=\"sk-toggleable__content\"><pre>RandomForestClassifier(random_state=2)</pre></div></div></div></div></div></div></div></div></div></div>"
      ],
      "text/plain": [
       "GridSearchCV(cv=5, estimator=RandomForestClassifier(random_state=2),\n",
       "             param_grid={'criterion': ['gini', 'entropy', 'log_loss'],\n",
       "                         'max_depth': [3, 4, 5, 6, 8, 10, 12, 15],\n",
       "                         'min_samples_split': [2, 5, 10, 12, 15, 20, 30],\n",
       "                         'n_estimators': [50, 100]},\n",
       "             scoring='accuracy')"
      ]
     },
     "execution_count": 92,
     "metadata": {},
     "output_type": "execute_result"
    }
   ],
   "source": [
    "cv1.fit(train_x_res.iloc[:,selected_feature_indices],train_y_res)"
   ]
  },
  {
   "cell_type": "code",
   "execution_count": 93,
   "id": "5fe69763",
   "metadata": {},
   "outputs": [
    {
     "name": "stdout",
     "output_type": "stream",
     "text": [
      "{'criterion': 'entropy', 'max_depth': 8, 'min_samples_split': 12, 'n_estimators': 100}\n"
     ]
    }
   ],
   "source": [
    "print(cv1.best_params_)"
   ]
  },
  {
   "cell_type": "code",
   "execution_count": 95,
   "id": "5ecd9432",
   "metadata": {},
   "outputs": [
    {
     "name": "stdout",
     "output_type": "stream",
     "text": [
      "Predicted Probabilities:\n",
      "[1 0 0 1 1 0 1 1 1 0 1 0 0 0 0 1 0 0 0 0 0 0 0 1 0 0 1 1 0 0 0 0 0 0 0 0 1\n",
      " 1 1 0 0 1 0 0 0 1 0 1 0 1 0 0 0 0 1 0 0 0 0 1 0 0 0 0 0 0 0 1 0 0 1 0 0 0\n",
      " 1 0 0 1 1 0 0 1 0 0 0 0 0 0 0 1 1 1 1 0 0 0 0 1 0 0 0 0 1 0 1 0 1 0 0 0 1\n",
      " 0 0 0 0 0 0 0 1 0 0 0 1 1 0 0 0 0 0 0 0 0 1 1 0 0 0 0 0 0 0 1 0 0 0 0 0 0\n",
      " 0 0 1 0 1 0 0 0 0 0 0 0 0 0 1 0 1 0 0 0 0 0 1 1 1 1 0 1 0 1 0 1 0 0 0 0 1\n",
      " 1 1 0 1 1 0 1 0 0 0 0 0 0 0 0 1 0 0 0 0 0 1 0 0 0 0 0 0 0 0 0 1 1 1 0 1 0\n",
      " 0 1 0 0 1 0 0 1 0 0 0 0 1 0 1 1 0 0 1 0 0 0 0 1 1 1 1 1]\n",
      "\n",
      "\n",
      "Random Forest Classifier Accuracy:\n",
      "0.744\n",
      "\n",
      "\n",
      "Confusion Matrix:\n",
      "[[146  36]\n",
      " [ 28  40]]\n",
      "\n",
      "\n",
      "Classification Report:\n",
      "              precision    recall  f1-score   support\n",
      "\n",
      "           0       0.84      0.80      0.82       182\n",
      "           1       0.53      0.59      0.56        68\n",
      "\n",
      "    accuracy                           0.74       250\n",
      "   macro avg       0.68      0.70      0.69       250\n",
      "weighted avg       0.75      0.74      0.75       250\n",
      "\n"
     ]
    }
   ],
   "source": [
    "RF_y_pred = cv1.predict(test_x.iloc[:,selected_feature_indices])\n",
    "print(\"Predicted Probabilities:\")\n",
    "print(RF_y_pred)\n",
    "print(\"\\n\")\n",
    "print(\"Random Forest Classifier Accuracy:\")\n",
    "print(accuracy_score(test_y, RF_y_pred))\n",
    "print(\"\\n\")\n",
    "print(\"Confusion Matrix:\")\n",
    "print(confusion_matrix(test_y, RF_y_pred))\n",
    "print(\"\\n\")\n",
    "print(\"Classification Report:\")\n",
    "print(classification_report(test_y, RF_y_pred))"
   ]
  },
  {
   "cell_type": "markdown",
   "id": "4b2d79e6",
   "metadata": {},
   "source": [
    "### 4. Bagging"
   ]
  },
  {
   "cell_type": "code",
   "execution_count": 96,
   "id": "fd08b98d",
   "metadata": {},
   "outputs": [],
   "source": [
    "from sklearn.ensemble import BaggingClassifier\n",
    "from sklearn.tree import DecisionTreeClassifier\n",
    "from sklearn.model_selection import train_test_split\n",
    "from sklearn.metrics import accuracy_score\n"
   ]
  },
  {
   "cell_type": "code",
   "execution_count": 97,
   "id": "02747c2d",
   "metadata": {},
   "outputs": [],
   "source": [
    "# Initialize the base classifier (a decision tree in this example)\n",
    "base_classifier = DecisionTreeClassifier()\n"
   ]
  },
  {
   "cell_type": "code",
   "execution_count": 98,
   "id": "2426f0e6",
   "metadata": {},
   "outputs": [],
   "source": [
    "# Create the bagging classifier\n",
    "num_base_classifiers = 100  # Number of base classifiers to train\n",
    "bagging_classifier = BaggingClassifier(base_classifier, n_estimators=num_base_classifiers)\n"
   ]
  },
  {
   "cell_type": "code",
   "execution_count": 99,
   "id": "326ec5b1",
   "metadata": {},
   "outputs": [
    {
     "data": {
      "text/html": [
       "<style>#sk-container-id-2 {color: black;}#sk-container-id-2 pre{padding: 0;}#sk-container-id-2 div.sk-toggleable {background-color: white;}#sk-container-id-2 label.sk-toggleable__label {cursor: pointer;display: block;width: 100%;margin-bottom: 0;padding: 0.3em;box-sizing: border-box;text-align: center;}#sk-container-id-2 label.sk-toggleable__label-arrow:before {content: \"▸\";float: left;margin-right: 0.25em;color: #696969;}#sk-container-id-2 label.sk-toggleable__label-arrow:hover:before {color: black;}#sk-container-id-2 div.sk-estimator:hover label.sk-toggleable__label-arrow:before {color: black;}#sk-container-id-2 div.sk-toggleable__content {max-height: 0;max-width: 0;overflow: hidden;text-align: left;background-color: #f0f8ff;}#sk-container-id-2 div.sk-toggleable__content pre {margin: 0.2em;color: black;border-radius: 0.25em;background-color: #f0f8ff;}#sk-container-id-2 input.sk-toggleable__control:checked~div.sk-toggleable__content {max-height: 200px;max-width: 100%;overflow: auto;}#sk-container-id-2 input.sk-toggleable__control:checked~label.sk-toggleable__label-arrow:before {content: \"▾\";}#sk-container-id-2 div.sk-estimator input.sk-toggleable__control:checked~label.sk-toggleable__label {background-color: #d4ebff;}#sk-container-id-2 div.sk-label input.sk-toggleable__control:checked~label.sk-toggleable__label {background-color: #d4ebff;}#sk-container-id-2 input.sk-hidden--visually {border: 0;clip: rect(1px 1px 1px 1px);clip: rect(1px, 1px, 1px, 1px);height: 1px;margin: -1px;overflow: hidden;padding: 0;position: absolute;width: 1px;}#sk-container-id-2 div.sk-estimator {font-family: monospace;background-color: #f0f8ff;border: 1px dotted black;border-radius: 0.25em;box-sizing: border-box;margin-bottom: 0.5em;}#sk-container-id-2 div.sk-estimator:hover {background-color: #d4ebff;}#sk-container-id-2 div.sk-parallel-item::after {content: \"\";width: 100%;border-bottom: 1px solid gray;flex-grow: 1;}#sk-container-id-2 div.sk-label:hover label.sk-toggleable__label {background-color: #d4ebff;}#sk-container-id-2 div.sk-serial::before {content: \"\";position: absolute;border-left: 1px solid gray;box-sizing: border-box;top: 0;bottom: 0;left: 50%;z-index: 0;}#sk-container-id-2 div.sk-serial {display: flex;flex-direction: column;align-items: center;background-color: white;padding-right: 0.2em;padding-left: 0.2em;position: relative;}#sk-container-id-2 div.sk-item {position: relative;z-index: 1;}#sk-container-id-2 div.sk-parallel {display: flex;align-items: stretch;justify-content: center;background-color: white;position: relative;}#sk-container-id-2 div.sk-item::before, #sk-container-id-2 div.sk-parallel-item::before {content: \"\";position: absolute;border-left: 1px solid gray;box-sizing: border-box;top: 0;bottom: 0;left: 50%;z-index: -1;}#sk-container-id-2 div.sk-parallel-item {display: flex;flex-direction: column;z-index: 1;position: relative;background-color: white;}#sk-container-id-2 div.sk-parallel-item:first-child::after {align-self: flex-end;width: 50%;}#sk-container-id-2 div.sk-parallel-item:last-child::after {align-self: flex-start;width: 50%;}#sk-container-id-2 div.sk-parallel-item:only-child::after {width: 0;}#sk-container-id-2 div.sk-dashed-wrapped {border: 1px dashed gray;margin: 0 0.4em 0.5em 0.4em;box-sizing: border-box;padding-bottom: 0.4em;background-color: white;}#sk-container-id-2 div.sk-label label {font-family: monospace;font-weight: bold;display: inline-block;line-height: 1.2em;}#sk-container-id-2 div.sk-label-container {text-align: center;}#sk-container-id-2 div.sk-container {/* jupyter's `normalize.less` sets `[hidden] { display: none; }` but bootstrap.min.css set `[hidden] { display: none !important; }` so we also need the `!important` here to be able to override the default hidden behavior on the sphinx rendered scikit-learn.org. See: https://github.com/scikit-learn/scikit-learn/issues/21755 */display: inline-block !important;position: relative;}#sk-container-id-2 div.sk-text-repr-fallback {display: none;}</style><div id=\"sk-container-id-2\" class=\"sk-top-container\"><div class=\"sk-text-repr-fallback\"><pre>BaggingClassifier(estimator=DecisionTreeClassifier(), n_estimators=100)</pre><b>In a Jupyter environment, please rerun this cell to show the HTML representation or trust the notebook. <br />On GitHub, the HTML representation is unable to render, please try loading this page with nbviewer.org.</b></div><div class=\"sk-container\" hidden><div class=\"sk-item sk-dashed-wrapped\"><div class=\"sk-label-container\"><div class=\"sk-label sk-toggleable\"><input class=\"sk-toggleable__control sk-hidden--visually\" id=\"sk-estimator-id-4\" type=\"checkbox\" ><label for=\"sk-estimator-id-4\" class=\"sk-toggleable__label sk-toggleable__label-arrow\">BaggingClassifier</label><div class=\"sk-toggleable__content\"><pre>BaggingClassifier(estimator=DecisionTreeClassifier(), n_estimators=100)</pre></div></div></div><div class=\"sk-parallel\"><div class=\"sk-parallel-item\"><div class=\"sk-item\"><div class=\"sk-label-container\"><div class=\"sk-label sk-toggleable\"><input class=\"sk-toggleable__control sk-hidden--visually\" id=\"sk-estimator-id-5\" type=\"checkbox\" ><label for=\"sk-estimator-id-5\" class=\"sk-toggleable__label sk-toggleable__label-arrow\">estimator: DecisionTreeClassifier</label><div class=\"sk-toggleable__content\"><pre>DecisionTreeClassifier()</pre></div></div></div><div class=\"sk-serial\"><div class=\"sk-item\"><div class=\"sk-estimator sk-toggleable\"><input class=\"sk-toggleable__control sk-hidden--visually\" id=\"sk-estimator-id-6\" type=\"checkbox\" ><label for=\"sk-estimator-id-6\" class=\"sk-toggleable__label sk-toggleable__label-arrow\">DecisionTreeClassifier</label><div class=\"sk-toggleable__content\"><pre>DecisionTreeClassifier()</pre></div></div></div></div></div></div></div></div></div></div>"
      ],
      "text/plain": [
       "BaggingClassifier(estimator=DecisionTreeClassifier(), n_estimators=100)"
      ]
     },
     "execution_count": 99,
     "metadata": {},
     "output_type": "execute_result"
    }
   ],
   "source": [
    "# Train the bagging classifier\n",
    "bagging_classifier.fit(train_x_res, train_y_res)\n"
   ]
  },
  {
   "cell_type": "code",
   "execution_count": 100,
   "id": "00e1aaa4",
   "metadata": {},
   "outputs": [],
   "source": [
    "# Make predictions on the test set\n",
    "bag_pred_y = bagging_classifier.predict(test_x)\n"
   ]
  },
  {
   "cell_type": "code",
   "execution_count": 101,
   "id": "6a5f239c",
   "metadata": {},
   "outputs": [
    {
     "name": "stdout",
     "output_type": "stream",
     "text": [
      "Bagging Classifier Accuracy:\n",
      "0.784\n",
      "Confusion Matrix:\n",
      "[[154  28]\n",
      " [ 26  42]]\n",
      "Classification Report:\n",
      "              precision    recall  f1-score   support\n",
      "\n",
      "           0       0.86      0.85      0.85       182\n",
      "           1       0.60      0.62      0.61        68\n",
      "\n",
      "    accuracy                           0.78       250\n",
      "   macro avg       0.73      0.73      0.73       250\n",
      "weighted avg       0.79      0.78      0.78       250\n",
      "\n"
     ]
    }
   ],
   "source": [
    "# Calculate the accuracy of the bagging classifier\n",
    "from sklearn.metrics import confusion_matrix, accuracy_score, classification_report\n",
    "\n",
    "accuracy = accuracy_score(test_y, bag_pred_y)\n",
    "print(\"Bagging Classifier Accuracy:\")\n",
    "print(accuracy)\n",
    "print(\"Confusion Matrix:\")\n",
    "print(confusion_matrix(test_y, bag_pred_y))\n",
    "print(\"Classification Report:\")\n",
    "print(classification_report(test_y, bag_pred_y))"
   ]
  },
  {
   "cell_type": "markdown",
   "id": "5d847cfc",
   "metadata": {},
   "source": [
    "### 5. Boosting"
   ]
  },
  {
   "cell_type": "code",
   "execution_count": 102,
   "id": "23aad90a",
   "metadata": {},
   "outputs": [],
   "source": [
    "from sklearn.ensemble import AdaBoostClassifier\n",
    "from xgboost import XGBClassifier\n"
   ]
  },
  {
   "cell_type": "markdown",
   "id": "f496ff36",
   "metadata": {},
   "source": [
    "#### a. AdaBoost "
   ]
  },
  {
   "cell_type": "code",
   "execution_count": 103,
   "id": "e1ef67ea",
   "metadata": {},
   "outputs": [
    {
     "data": {
      "text/html": [
       "<style>#sk-container-id-3 {color: black;}#sk-container-id-3 pre{padding: 0;}#sk-container-id-3 div.sk-toggleable {background-color: white;}#sk-container-id-3 label.sk-toggleable__label {cursor: pointer;display: block;width: 100%;margin-bottom: 0;padding: 0.3em;box-sizing: border-box;text-align: center;}#sk-container-id-3 label.sk-toggleable__label-arrow:before {content: \"▸\";float: left;margin-right: 0.25em;color: #696969;}#sk-container-id-3 label.sk-toggleable__label-arrow:hover:before {color: black;}#sk-container-id-3 div.sk-estimator:hover label.sk-toggleable__label-arrow:before {color: black;}#sk-container-id-3 div.sk-toggleable__content {max-height: 0;max-width: 0;overflow: hidden;text-align: left;background-color: #f0f8ff;}#sk-container-id-3 div.sk-toggleable__content pre {margin: 0.2em;color: black;border-radius: 0.25em;background-color: #f0f8ff;}#sk-container-id-3 input.sk-toggleable__control:checked~div.sk-toggleable__content {max-height: 200px;max-width: 100%;overflow: auto;}#sk-container-id-3 input.sk-toggleable__control:checked~label.sk-toggleable__label-arrow:before {content: \"▾\";}#sk-container-id-3 div.sk-estimator input.sk-toggleable__control:checked~label.sk-toggleable__label {background-color: #d4ebff;}#sk-container-id-3 div.sk-label input.sk-toggleable__control:checked~label.sk-toggleable__label {background-color: #d4ebff;}#sk-container-id-3 input.sk-hidden--visually {border: 0;clip: rect(1px 1px 1px 1px);clip: rect(1px, 1px, 1px, 1px);height: 1px;margin: -1px;overflow: hidden;padding: 0;position: absolute;width: 1px;}#sk-container-id-3 div.sk-estimator {font-family: monospace;background-color: #f0f8ff;border: 1px dotted black;border-radius: 0.25em;box-sizing: border-box;margin-bottom: 0.5em;}#sk-container-id-3 div.sk-estimator:hover {background-color: #d4ebff;}#sk-container-id-3 div.sk-parallel-item::after {content: \"\";width: 100%;border-bottom: 1px solid gray;flex-grow: 1;}#sk-container-id-3 div.sk-label:hover label.sk-toggleable__label {background-color: #d4ebff;}#sk-container-id-3 div.sk-serial::before {content: \"\";position: absolute;border-left: 1px solid gray;box-sizing: border-box;top: 0;bottom: 0;left: 50%;z-index: 0;}#sk-container-id-3 div.sk-serial {display: flex;flex-direction: column;align-items: center;background-color: white;padding-right: 0.2em;padding-left: 0.2em;position: relative;}#sk-container-id-3 div.sk-item {position: relative;z-index: 1;}#sk-container-id-3 div.sk-parallel {display: flex;align-items: stretch;justify-content: center;background-color: white;position: relative;}#sk-container-id-3 div.sk-item::before, #sk-container-id-3 div.sk-parallel-item::before {content: \"\";position: absolute;border-left: 1px solid gray;box-sizing: border-box;top: 0;bottom: 0;left: 50%;z-index: -1;}#sk-container-id-3 div.sk-parallel-item {display: flex;flex-direction: column;z-index: 1;position: relative;background-color: white;}#sk-container-id-3 div.sk-parallel-item:first-child::after {align-self: flex-end;width: 50%;}#sk-container-id-3 div.sk-parallel-item:last-child::after {align-self: flex-start;width: 50%;}#sk-container-id-3 div.sk-parallel-item:only-child::after {width: 0;}#sk-container-id-3 div.sk-dashed-wrapped {border: 1px dashed gray;margin: 0 0.4em 0.5em 0.4em;box-sizing: border-box;padding-bottom: 0.4em;background-color: white;}#sk-container-id-3 div.sk-label label {font-family: monospace;font-weight: bold;display: inline-block;line-height: 1.2em;}#sk-container-id-3 div.sk-label-container {text-align: center;}#sk-container-id-3 div.sk-container {/* jupyter's `normalize.less` sets `[hidden] { display: none; }` but bootstrap.min.css set `[hidden] { display: none !important; }` so we also need the `!important` here to be able to override the default hidden behavior on the sphinx rendered scikit-learn.org. See: https://github.com/scikit-learn/scikit-learn/issues/21755 */display: inline-block !important;position: relative;}#sk-container-id-3 div.sk-text-repr-fallback {display: none;}</style><div id=\"sk-container-id-3\" class=\"sk-top-container\"><div class=\"sk-text-repr-fallback\"><pre>AdaBoostClassifier(n_estimators=100, random_state=42)</pre><b>In a Jupyter environment, please rerun this cell to show the HTML representation or trust the notebook. <br />On GitHub, the HTML representation is unable to render, please try loading this page with nbviewer.org.</b></div><div class=\"sk-container\" hidden><div class=\"sk-item\"><div class=\"sk-estimator sk-toggleable\"><input class=\"sk-toggleable__control sk-hidden--visually\" id=\"sk-estimator-id-7\" type=\"checkbox\" checked><label for=\"sk-estimator-id-7\" class=\"sk-toggleable__label sk-toggleable__label-arrow\">AdaBoostClassifier</label><div class=\"sk-toggleable__content\"><pre>AdaBoostClassifier(n_estimators=100, random_state=42)</pre></div></div></div></div></div>"
      ],
      "text/plain": [
       "AdaBoostClassifier(n_estimators=100, random_state=42)"
      ]
     },
     "execution_count": 103,
     "metadata": {},
     "output_type": "execute_result"
    }
   ],
   "source": [
    "# Create and train the AdaBoost model\n",
    "ada_model = AdaBoostClassifier(n_estimators=100, random_state=42)\n",
    "ada_model.fit(train_x_res, train_y_res)\n"
   ]
  },
  {
   "cell_type": "code",
   "execution_count": 104,
   "id": "e1e7e054",
   "metadata": {},
   "outputs": [
    {
     "name": "stdout",
     "output_type": "stream",
     "text": [
      "AdaBoost Accuracy:\n",
      "0.66\n",
      "\n",
      "\n",
      "Confusion Matrix:\n",
      "[[125  57]\n",
      " [ 28  40]]\n",
      "\n",
      "\n",
      "Classification Report:\n",
      "              precision    recall  f1-score   support\n",
      "\n",
      "           0       0.82      0.69      0.75       182\n",
      "           1       0.41      0.59      0.48        68\n",
      "\n",
      "    accuracy                           0.66       250\n",
      "   macro avg       0.61      0.64      0.62       250\n",
      "weighted avg       0.71      0.66      0.68       250\n",
      "\n"
     ]
    }
   ],
   "source": [
    "# Make predictions on the test data for AdaBoost model\n",
    "ada_y_pred = ada_model.predict(test_x)\n",
    "\n",
    "# Calculate accuracy for AdaBoost model\n",
    "from sklearn.metrics import confusion_matrix, accuracy_score, classification_report\n",
    "\n",
    "ada_accuracy = accuracy_score(test_y, ada_y_pred)\n",
    "print(\"AdaBoost Accuracy:\")\n",
    "print(ada_accuracy)\n",
    "print(\"\\n\")\n",
    "print(\"Confusion Matrix:\")\n",
    "print(confusion_matrix(test_y, ada_y_pred))\n",
    "print(\"\\n\")\n",
    "print(\"Classification Report:\")\n",
    "print(classification_report(test_y, ada_y_pred))\n"
   ]
  },
  {
   "cell_type": "markdown",
   "id": "b4683ac4",
   "metadata": {},
   "source": [
    "#### b. XGBoost"
   ]
  },
  {
   "cell_type": "code",
   "execution_count": 105,
   "id": "32f99b78",
   "metadata": {},
   "outputs": [
    {
     "data": {
      "text/html": [
       "<style>#sk-container-id-4 {color: black;}#sk-container-id-4 pre{padding: 0;}#sk-container-id-4 div.sk-toggleable {background-color: white;}#sk-container-id-4 label.sk-toggleable__label {cursor: pointer;display: block;width: 100%;margin-bottom: 0;padding: 0.3em;box-sizing: border-box;text-align: center;}#sk-container-id-4 label.sk-toggleable__label-arrow:before {content: \"▸\";float: left;margin-right: 0.25em;color: #696969;}#sk-container-id-4 label.sk-toggleable__label-arrow:hover:before {color: black;}#sk-container-id-4 div.sk-estimator:hover label.sk-toggleable__label-arrow:before {color: black;}#sk-container-id-4 div.sk-toggleable__content {max-height: 0;max-width: 0;overflow: hidden;text-align: left;background-color: #f0f8ff;}#sk-container-id-4 div.sk-toggleable__content pre {margin: 0.2em;color: black;border-radius: 0.25em;background-color: #f0f8ff;}#sk-container-id-4 input.sk-toggleable__control:checked~div.sk-toggleable__content {max-height: 200px;max-width: 100%;overflow: auto;}#sk-container-id-4 input.sk-toggleable__control:checked~label.sk-toggleable__label-arrow:before {content: \"▾\";}#sk-container-id-4 div.sk-estimator input.sk-toggleable__control:checked~label.sk-toggleable__label {background-color: #d4ebff;}#sk-container-id-4 div.sk-label input.sk-toggleable__control:checked~label.sk-toggleable__label {background-color: #d4ebff;}#sk-container-id-4 input.sk-hidden--visually {border: 0;clip: rect(1px 1px 1px 1px);clip: rect(1px, 1px, 1px, 1px);height: 1px;margin: -1px;overflow: hidden;padding: 0;position: absolute;width: 1px;}#sk-container-id-4 div.sk-estimator {font-family: monospace;background-color: #f0f8ff;border: 1px dotted black;border-radius: 0.25em;box-sizing: border-box;margin-bottom: 0.5em;}#sk-container-id-4 div.sk-estimator:hover {background-color: #d4ebff;}#sk-container-id-4 div.sk-parallel-item::after {content: \"\";width: 100%;border-bottom: 1px solid gray;flex-grow: 1;}#sk-container-id-4 div.sk-label:hover label.sk-toggleable__label {background-color: #d4ebff;}#sk-container-id-4 div.sk-serial::before {content: \"\";position: absolute;border-left: 1px solid gray;box-sizing: border-box;top: 0;bottom: 0;left: 50%;z-index: 0;}#sk-container-id-4 div.sk-serial {display: flex;flex-direction: column;align-items: center;background-color: white;padding-right: 0.2em;padding-left: 0.2em;position: relative;}#sk-container-id-4 div.sk-item {position: relative;z-index: 1;}#sk-container-id-4 div.sk-parallel {display: flex;align-items: stretch;justify-content: center;background-color: white;position: relative;}#sk-container-id-4 div.sk-item::before, #sk-container-id-4 div.sk-parallel-item::before {content: \"\";position: absolute;border-left: 1px solid gray;box-sizing: border-box;top: 0;bottom: 0;left: 50%;z-index: -1;}#sk-container-id-4 div.sk-parallel-item {display: flex;flex-direction: column;z-index: 1;position: relative;background-color: white;}#sk-container-id-4 div.sk-parallel-item:first-child::after {align-self: flex-end;width: 50%;}#sk-container-id-4 div.sk-parallel-item:last-child::after {align-self: flex-start;width: 50%;}#sk-container-id-4 div.sk-parallel-item:only-child::after {width: 0;}#sk-container-id-4 div.sk-dashed-wrapped {border: 1px dashed gray;margin: 0 0.4em 0.5em 0.4em;box-sizing: border-box;padding-bottom: 0.4em;background-color: white;}#sk-container-id-4 div.sk-label label {font-family: monospace;font-weight: bold;display: inline-block;line-height: 1.2em;}#sk-container-id-4 div.sk-label-container {text-align: center;}#sk-container-id-4 div.sk-container {/* jupyter's `normalize.less` sets `[hidden] { display: none; }` but bootstrap.min.css set `[hidden] { display: none !important; }` so we also need the `!important` here to be able to override the default hidden behavior on the sphinx rendered scikit-learn.org. See: https://github.com/scikit-learn/scikit-learn/issues/21755 */display: inline-block !important;position: relative;}#sk-container-id-4 div.sk-text-repr-fallback {display: none;}</style><div id=\"sk-container-id-4\" class=\"sk-top-container\"><div class=\"sk-text-repr-fallback\"><pre>XGBClassifier(base_score=None, booster=None, callbacks=None,\n",
       "              colsample_bylevel=None, colsample_bynode=None,\n",
       "              colsample_bytree=None, early_stopping_rounds=None,\n",
       "              enable_categorical=False, eval_metric=None, feature_types=None,\n",
       "              gamma=None, gpu_id=None, grow_policy=None, importance_type=None,\n",
       "              interaction_constraints=None, learning_rate=0.1, max_bin=None,\n",
       "              max_cat_threshold=None, max_cat_to_onehot=None,\n",
       "              max_delta_step=None, max_depth=None, max_leaves=None,\n",
       "              min_child_weight=None, missing=nan, monotone_constraints=None,\n",
       "              n_estimators=100, n_jobs=None, num_parallel_tree=None,\n",
       "              predictor=None, random_state=42, ...)</pre><b>In a Jupyter environment, please rerun this cell to show the HTML representation or trust the notebook. <br />On GitHub, the HTML representation is unable to render, please try loading this page with nbviewer.org.</b></div><div class=\"sk-container\" hidden><div class=\"sk-item\"><div class=\"sk-estimator sk-toggleable\"><input class=\"sk-toggleable__control sk-hidden--visually\" id=\"sk-estimator-id-8\" type=\"checkbox\" checked><label for=\"sk-estimator-id-8\" class=\"sk-toggleable__label sk-toggleable__label-arrow\">XGBClassifier</label><div class=\"sk-toggleable__content\"><pre>XGBClassifier(base_score=None, booster=None, callbacks=None,\n",
       "              colsample_bylevel=None, colsample_bynode=None,\n",
       "              colsample_bytree=None, early_stopping_rounds=None,\n",
       "              enable_categorical=False, eval_metric=None, feature_types=None,\n",
       "              gamma=None, gpu_id=None, grow_policy=None, importance_type=None,\n",
       "              interaction_constraints=None, learning_rate=0.1, max_bin=None,\n",
       "              max_cat_threshold=None, max_cat_to_onehot=None,\n",
       "              max_delta_step=None, max_depth=None, max_leaves=None,\n",
       "              min_child_weight=None, missing=nan, monotone_constraints=None,\n",
       "              n_estimators=100, n_jobs=None, num_parallel_tree=None,\n",
       "              predictor=None, random_state=42, ...)</pre></div></div></div></div></div>"
      ],
      "text/plain": [
       "XGBClassifier(base_score=None, booster=None, callbacks=None,\n",
       "              colsample_bylevel=None, colsample_bynode=None,\n",
       "              colsample_bytree=None, early_stopping_rounds=None,\n",
       "              enable_categorical=False, eval_metric=None, feature_types=None,\n",
       "              gamma=None, gpu_id=None, grow_policy=None, importance_type=None,\n",
       "              interaction_constraints=None, learning_rate=0.1, max_bin=None,\n",
       "              max_cat_threshold=None, max_cat_to_onehot=None,\n",
       "              max_delta_step=None, max_depth=None, max_leaves=None,\n",
       "              min_child_weight=None, missing=nan, monotone_constraints=None,\n",
       "              n_estimators=100, n_jobs=None, num_parallel_tree=None,\n",
       "              predictor=None, random_state=42, ...)"
      ]
     },
     "execution_count": 105,
     "metadata": {},
     "output_type": "execute_result"
    }
   ],
   "source": [
    "# Create and train the XGBoost model\n",
    "xgb_model = XGBClassifier(n_estimators=100, learning_rate=0.1, random_state=42)\n",
    "xgb_model.fit(train_x_res, train_y_res)"
   ]
  },
  {
   "cell_type": "code",
   "execution_count": 106,
   "id": "cdcb77e4",
   "metadata": {},
   "outputs": [
    {
     "name": "stdout",
     "output_type": "stream",
     "text": [
      "XGBoost Accuracy:\n",
      "0.748\n",
      "\n",
      "\n",
      "Confusion Matrix:\n",
      "[[144  38]\n",
      " [ 25  43]]\n",
      "\n",
      "\n",
      "Classification Report:\n",
      "              precision    recall  f1-score   support\n",
      "\n",
      "           0       0.85      0.79      0.82       182\n",
      "           1       0.53      0.63      0.58        68\n",
      "\n",
      "    accuracy                           0.75       250\n",
      "   macro avg       0.69      0.71      0.70       250\n",
      "weighted avg       0.76      0.75      0.75       250\n",
      "\n"
     ]
    }
   ],
   "source": [
    "# Make predictions on the test data for XGBoost model\n",
    "xgb_y_pred = xgb_model.predict(test_x)\n",
    "\n",
    "# Calculate accuracy for XGBoost model\n",
    "xgb_accuracy = accuracy_score(test_y, xgb_y_pred)\n",
    "print(\"XGBoost Accuracy:\")\n",
    "print(xgb_accuracy)\n",
    "print(\"\\n\")\n",
    "print(\"Confusion Matrix:\")\n",
    "print(confusion_matrix(test_y, xgb_y_pred))\n",
    "print(\"\\n\")\n",
    "print(\"Classification Report:\")\n",
    "print(classification_report(test_y, xgb_y_pred))\n"
   ]
  },
  {
   "cell_type": "markdown",
   "id": "28faa0c4",
   "metadata": {},
   "source": [
    "### 6. Support Vector Classifier(SVC)"
   ]
  },
  {
   "cell_type": "code",
   "execution_count": 107,
   "id": "a26b56fa",
   "metadata": {},
   "outputs": [],
   "source": [
    "from sklearn.svm import SVC\n",
    "from sklearn.metrics import accuracy_score"
   ]
  },
  {
   "cell_type": "code",
   "execution_count": 108,
   "id": "f00542c0",
   "metadata": {},
   "outputs": [
    {
     "data": {
      "text/html": [
       "<style>#sk-container-id-5 {color: black;}#sk-container-id-5 pre{padding: 0;}#sk-container-id-5 div.sk-toggleable {background-color: white;}#sk-container-id-5 label.sk-toggleable__label {cursor: pointer;display: block;width: 100%;margin-bottom: 0;padding: 0.3em;box-sizing: border-box;text-align: center;}#sk-container-id-5 label.sk-toggleable__label-arrow:before {content: \"▸\";float: left;margin-right: 0.25em;color: #696969;}#sk-container-id-5 label.sk-toggleable__label-arrow:hover:before {color: black;}#sk-container-id-5 div.sk-estimator:hover label.sk-toggleable__label-arrow:before {color: black;}#sk-container-id-5 div.sk-toggleable__content {max-height: 0;max-width: 0;overflow: hidden;text-align: left;background-color: #f0f8ff;}#sk-container-id-5 div.sk-toggleable__content pre {margin: 0.2em;color: black;border-radius: 0.25em;background-color: #f0f8ff;}#sk-container-id-5 input.sk-toggleable__control:checked~div.sk-toggleable__content {max-height: 200px;max-width: 100%;overflow: auto;}#sk-container-id-5 input.sk-toggleable__control:checked~label.sk-toggleable__label-arrow:before {content: \"▾\";}#sk-container-id-5 div.sk-estimator input.sk-toggleable__control:checked~label.sk-toggleable__label {background-color: #d4ebff;}#sk-container-id-5 div.sk-label input.sk-toggleable__control:checked~label.sk-toggleable__label {background-color: #d4ebff;}#sk-container-id-5 input.sk-hidden--visually {border: 0;clip: rect(1px 1px 1px 1px);clip: rect(1px, 1px, 1px, 1px);height: 1px;margin: -1px;overflow: hidden;padding: 0;position: absolute;width: 1px;}#sk-container-id-5 div.sk-estimator {font-family: monospace;background-color: #f0f8ff;border: 1px dotted black;border-radius: 0.25em;box-sizing: border-box;margin-bottom: 0.5em;}#sk-container-id-5 div.sk-estimator:hover {background-color: #d4ebff;}#sk-container-id-5 div.sk-parallel-item::after {content: \"\";width: 100%;border-bottom: 1px solid gray;flex-grow: 1;}#sk-container-id-5 div.sk-label:hover label.sk-toggleable__label {background-color: #d4ebff;}#sk-container-id-5 div.sk-serial::before {content: \"\";position: absolute;border-left: 1px solid gray;box-sizing: border-box;top: 0;bottom: 0;left: 50%;z-index: 0;}#sk-container-id-5 div.sk-serial {display: flex;flex-direction: column;align-items: center;background-color: white;padding-right: 0.2em;padding-left: 0.2em;position: relative;}#sk-container-id-5 div.sk-item {position: relative;z-index: 1;}#sk-container-id-5 div.sk-parallel {display: flex;align-items: stretch;justify-content: center;background-color: white;position: relative;}#sk-container-id-5 div.sk-item::before, #sk-container-id-5 div.sk-parallel-item::before {content: \"\";position: absolute;border-left: 1px solid gray;box-sizing: border-box;top: 0;bottom: 0;left: 50%;z-index: -1;}#sk-container-id-5 div.sk-parallel-item {display: flex;flex-direction: column;z-index: 1;position: relative;background-color: white;}#sk-container-id-5 div.sk-parallel-item:first-child::after {align-self: flex-end;width: 50%;}#sk-container-id-5 div.sk-parallel-item:last-child::after {align-self: flex-start;width: 50%;}#sk-container-id-5 div.sk-parallel-item:only-child::after {width: 0;}#sk-container-id-5 div.sk-dashed-wrapped {border: 1px dashed gray;margin: 0 0.4em 0.5em 0.4em;box-sizing: border-box;padding-bottom: 0.4em;background-color: white;}#sk-container-id-5 div.sk-label label {font-family: monospace;font-weight: bold;display: inline-block;line-height: 1.2em;}#sk-container-id-5 div.sk-label-container {text-align: center;}#sk-container-id-5 div.sk-container {/* jupyter's `normalize.less` sets `[hidden] { display: none; }` but bootstrap.min.css set `[hidden] { display: none !important; }` so we also need the `!important` here to be able to override the default hidden behavior on the sphinx rendered scikit-learn.org. See: https://github.com/scikit-learn/scikit-learn/issues/21755 */display: inline-block !important;position: relative;}#sk-container-id-5 div.sk-text-repr-fallback {display: none;}</style><div id=\"sk-container-id-5\" class=\"sk-top-container\"><div class=\"sk-text-repr-fallback\"><pre>SVC(kernel=&#x27;linear&#x27;, random_state=42)</pre><b>In a Jupyter environment, please rerun this cell to show the HTML representation or trust the notebook. <br />On GitHub, the HTML representation is unable to render, please try loading this page with nbviewer.org.</b></div><div class=\"sk-container\" hidden><div class=\"sk-item\"><div class=\"sk-estimator sk-toggleable\"><input class=\"sk-toggleable__control sk-hidden--visually\" id=\"sk-estimator-id-9\" type=\"checkbox\" checked><label for=\"sk-estimator-id-9\" class=\"sk-toggleable__label sk-toggleable__label-arrow\">SVC</label><div class=\"sk-toggleable__content\"><pre>SVC(kernel=&#x27;linear&#x27;, random_state=42)</pre></div></div></div></div></div>"
      ],
      "text/plain": [
       "SVC(kernel='linear', random_state=42)"
      ]
     },
     "execution_count": 108,
     "metadata": {},
     "output_type": "execute_result"
    }
   ],
   "source": [
    "# Create the SVM model\n",
    "model = SVC(kernel='linear', C=1.0, random_state=42)\n",
    "\n",
    "# Train the model on the training data\n",
    "model.fit(train_x_res, train_y_res)"
   ]
  },
  {
   "cell_type": "code",
   "execution_count": 109,
   "id": "2764fab4",
   "metadata": {},
   "outputs": [
    {
     "name": "stdout",
     "output_type": "stream",
     "text": [
      "Accuracy:\n",
      "0.724\n",
      "\n",
      "\n",
      "Confusion Matrix:\n",
      "[[176   6]\n",
      " [ 63   5]]\n",
      "\n",
      "\n",
      "Classification Report:\n",
      "              precision    recall  f1-score   support\n",
      "\n",
      "           0       0.74      0.97      0.84       182\n",
      "           1       0.45      0.07      0.13        68\n",
      "\n",
      "    accuracy                           0.72       250\n",
      "   macro avg       0.60      0.52      0.48       250\n",
      "weighted avg       0.66      0.72      0.64       250\n",
      "\n"
     ]
    }
   ],
   "source": [
    "# Make predictions on the test data\n",
    "y_pred_svc = model.predict(test_x)\n",
    "\n",
    "# Calculate accuracy\n",
    "accuracy = accuracy_score(test_y, y_pred_svc)\n",
    "print(\"Accuracy:\")\n",
    "print(accuracy)\n",
    "print(\"\\n\")\n",
    "print(\"Confusion Matrix:\")\n",
    "print(confusion_matrix(test_y, y_pred_svc))\n",
    "print(\"\\n\")\n",
    "print(\"Classification Report:\")\n",
    "print(classification_report(test_y, y_pred_svc))\n"
   ]
  },
  {
   "cell_type": "markdown",
   "id": "bee760b0",
   "metadata": {},
   "source": [
    "## Models Comaprision"
   ]
  },
  {
   "cell_type": "markdown",
   "id": "fd79479f",
   "metadata": {},
   "source": [
    "#### Prediction Probabilities"
   ]
  },
  {
   "cell_type": "code",
   "execution_count": 110,
   "id": "5e552095",
   "metadata": {},
   "outputs": [],
   "source": [
    "r_probs = [0 for _ in range(len(test_y))]\n",
    "DT_probs = cv.predict(test_x.iloc[:,selected_feature_indices])\n",
    "LR_probs = classifier.predict(test_x.iloc[:,selected_feature_indices])\n",
    "RF_probs = cv1.predict(test_x.iloc[:,selected_feature_indices])\n",
    "BAG_probs = bagging_classifier.predict(test_x)\n",
    "ADA_probs = ada_model.predict(test_x)\n",
    "XG_probs =  xgb_model.predict(test_x)\n"
   ]
  },
  {
   "cell_type": "markdown",
   "id": "25f76f80",
   "metadata": {},
   "source": [
    "#### Computing AUROC and ROC curve values"
   ]
  },
  {
   "cell_type": "code",
   "execution_count": 111,
   "id": "15456668",
   "metadata": {},
   "outputs": [],
   "source": [
    "from sklearn.metrics import roc_curve, roc_auc_score"
   ]
  },
  {
   "cell_type": "markdown",
   "id": "b1ab89b8",
   "metadata": {},
   "source": [
    "#### Calculate AUROC"
   ]
  },
  {
   "cell_type": "markdown",
   "id": "86483c06",
   "metadata": {},
   "source": [
    "ROC is the reciever operating characteristic AUROC is the area under the ROC curve."
   ]
  },
  {
   "cell_type": "code",
   "execution_count": 112,
   "id": "1b3f6e05",
   "metadata": {},
   "outputs": [],
   "source": [
    "r_auc = roc_auc_score(test_y, r_probs)\n",
    "DT_auc = roc_auc_score(test_y, DT_probs)\n",
    "LR_auc = roc_auc_score(test_y, LR_probs)\n",
    "RF_auc = roc_auc_score(test_y, RF_probs)\n",
    "BAG_auc = roc_auc_score(test_y, BAG_probs)\n",
    "ADA_auc = roc_auc_score(test_y, ADA_probs)\n",
    "XG_auc = roc_auc_score(test_y, XG_probs)"
   ]
  },
  {
   "cell_type": "markdown",
   "id": "a20639e3",
   "metadata": {},
   "source": [
    "#### Print AUROC score"
   ]
  },
  {
   "cell_type": "code",
   "execution_count": 113,
   "id": "acf94347",
   "metadata": {},
   "outputs": [
    {
     "name": "stdout",
     "output_type": "stream",
     "text": [
      "Random(chance) Prediction: AUROC - 0.500\n",
      "Logistic Regression: AUROC - 0.680\n",
      "Decision Tree: AUROC - 0.516\n",
      "Random Forest: AUROC - 0.695\n",
      "Bagging: AUROC - 0.732\n",
      "ADABoost: AUROC - 0.638\n",
      "XGBoost: AUROC - 0.712\n"
     ]
    }
   ],
   "source": [
    "print('Random(chance) Prediction: AUROC - %.3f' %(r_auc))\n",
    "print('Logistic Regression: AUROC - %.3f' %(DT_auc))\n",
    "print('Decision Tree: AUROC - %.3f' %(LR_auc))\n",
    "print('Random Forest: AUROC - %.3f' %(RF_auc))\n",
    "print('Bagging: AUROC - %.3f' %(BAG_auc))\n",
    "print('ADABoost: AUROC - %.3f' %(ADA_auc))\n",
    "print('XGBoost: AUROC - %.3f' %(XG_auc))"
   ]
  },
  {
   "cell_type": "markdown",
   "id": "39e755af",
   "metadata": {},
   "source": [
    "#### Calculate ROC curve"
   ]
  },
  {
   "cell_type": "code",
   "execution_count": 114,
   "id": "a8db8755",
   "metadata": {},
   "outputs": [],
   "source": [
    "r_fpr, r_tpr, _ = roc_curve(test_y, r_probs)\n",
    "DT_fpr, DT_tpr, _ = roc_curve(test_y, DT_probs)\n",
    "LR_fpr, LR_tpr, _ = roc_curve(test_y, LR_probs)\n",
    "RF_fpr, RF_tpr, _ = roc_curve(test_y, RF_probs)\n",
    "BAG_fpr, BAG_tpr, _ = roc_curve(test_y, BAG_probs)\n",
    "ADA_fpr, ADA_tpr, _ = roc_curve(test_y, ADA_probs)\n",
    "XG_fpr, XG_tpr, _ = roc_curve(test_y, XG_probs)"
   ]
  },
  {
   "cell_type": "markdown",
   "id": "25900b49",
   "metadata": {},
   "source": [
    "#### Plot the ROC curve"
   ]
  },
  {
   "cell_type": "code",
   "execution_count": 115,
   "id": "d5fc535a",
   "metadata": {},
   "outputs": [
    {
     "data": {
      "image/png": "[encoded data removed]",
      "text/plain": [
       "<Figure size 432x288 with 1 Axes>"
      ]
     },
     "metadata": {
      "needs_background": "light"
     },
     "output_type": "display_data"
    }
   ],
   "source": [
    "import matplotlib.pyplot as plt\n",
    "\n",
    "plt.plot(r_fpr, r_tpr, linestyle='--', label = 'Random Prediction (AUROC = %0.3f)' % r_auc)\n",
    "plt.plot(DT_fpr, DT_tpr,  label = 'Decision Tree (AUROC = %0.3f)' % DT_auc)\n",
    "plt.plot(LR_fpr, LR_tpr, label = 'Logistic Regression (AUROC = %0.3f)' % LR_auc)\n",
    "plt.plot(RF_fpr, RF_tpr, label = 'Random Forest: AUROC - %.3f' % RF_auc)\n",
    "plt.plot(BAG_fpr, BAG_tpr, label = 'Bagging: AUROC - %.3f' % BAG_auc)\n",
    "plt.plot(ADA_fpr, ADA_tpr, label = 'ADABoost: AUROC - %.3f' % ADA_auc)\n",
    "plt.plot(XG_fpr, XG_tpr, label = 'XGBoost: AUROC - %.3f' % XG_auc)\n",
    "\n",
    "# title\n",
    "plt.title('ROC Plot')\n",
    "# axis labels \n",
    "plt.xlabel('False positive rate')\n",
    "plt.ylabel('True positive rate')\n",
    "# show legend\n",
    "plt.legend()\n",
    "# show plot\n",
    "plt.show()"
   ]
  },
  {
   "cell_type": "code",
   "execution_count": null,
   "id": "3f182055",
   "metadata": {},
   "outputs": [],
   "source": []
  },
  {
   "cell_type": "code",
   "execution_count": null,
   "id": "aadd821f",
   "metadata": {},
   "outputs": [],
   "source": []
  },
  {
   "cell_type": "code",
   "execution_count": null,
   "id": "2c312ba3",
   "metadata": {},
   "outputs": [],
   "source": []
  },
  {
   "cell_type": "code",
   "execution_count": null,
   "id": "6dcd85de",
   "metadata": {},
   "outputs": [],
   "source": []
  },
  {
   "cell_type": "code",
   "execution_count": null,
   "id": "482be710",
   "metadata": {},
   "outputs": [],
   "source": []
  },
  {
   "cell_type": "code",
   "execution_count": null,
   "id": "682e562c",
   "metadata": {},
   "outputs": [],
   "source": []
  }
 ],
 "metadata": {
  "kernelspec": {
   "display_name": "Python 3 (ipykernel)",
   "language": "python",
   "name": "python3"
  },
  "language_info": {
   "codemirror_mode": {
    "name": "ipython",
    "version": 3
   },
   "file_extension": ".py",
   "mimetype": "text/x-python",
   "name": "python",
   "nbconvert_exporter": "python",
   "pygments_lexer": "ipython3",
   "version": "3.9.12"
  }
 },
 "nbformat": 4,
 "nbformat_minor": 5
}
